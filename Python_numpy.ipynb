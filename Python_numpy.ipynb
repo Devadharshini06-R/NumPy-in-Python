{
  "nbformat": 4,
  "nbformat_minor": 0,
  "metadata": {
    "colab": {
      "provenance": []
    },
    "kernelspec": {
      "name": "python3",
      "display_name": "Python 3"
    },
    "language_info": {
      "name": "python"
    }
  },
  "cells": [
    {
      "cell_type": "markdown",
      "source": [
        "# NUMPY"
      ],
      "metadata": {
        "id": "9hiMRJdCTZGw"
      }
    },
    {
      "cell_type": "code",
      "execution_count": null,
      "metadata": {
        "id": "Yx9W--BKp96-"
      },
      "outputs": [],
      "source": [
        "import numpy as np"
      ]
    },
    {
      "cell_type": "markdown",
      "source": [
        "# Creating Arrays"
      ],
      "metadata": {
        "id": "t_SGecw7Tj6L"
      }
    },
    {
      "cell_type": "code",
      "source": [
        "# 1D array\n",
        "arr1=np.array([1,2,3])\n",
        "# 2D array\n",
        "arr2=np.array([[1,2],[4,3]])\n",
        "# Array with 3 rows and 5 columns (3,5)\n",
        "arr3=np.array([[1,8,5,9,5],[6,7,8,9,11],[10,2,3,4,15]])\n",
        "# Array of zeros\n",
        "zeros=np.zeros((2,3))\n",
        "# Array of ones\n",
        "ones=np.ones((3,3))\n",
        "# Constant array\n",
        "full=np.full((2,2),7)\n",
        "# Identity matrix\n",
        "eye=np.eye(3)\n",
        "# Random floats\n",
        "rand=np.random.rand(3,2)\n",
        "# Evenly spaced numbers\n",
        "lin=np.linspace(0,1,5)\n",
        "# Range of numbers\n",
        "range_arr=np.arange(0,10,2)"
      ],
      "metadata": {
        "id": "He1h_fXwqG1L"
      },
      "execution_count": null,
      "outputs": []
    },
    {
      "cell_type": "code",
      "source": [
        "arr1"
      ],
      "metadata": {
        "colab": {
          "base_uri": "https://localhost:8080/"
        },
        "id": "bIAIjy4grefh",
        "outputId": "e39b8023-ce81-448e-a51f-914132bf571d"
      },
      "execution_count": null,
      "outputs": [
        {
          "output_type": "execute_result",
          "data": {
            "text/plain": [
              "array([1, 2, 3])"
            ]
          },
          "metadata": {},
          "execution_count": 185
        }
      ]
    },
    {
      "cell_type": "code",
      "source": [
        "arr2"
      ],
      "metadata": {
        "colab": {
          "base_uri": "https://localhost:8080/"
        },
        "id": "EflATQTnrkIq",
        "outputId": "be7cc3e9-bf56-44d6-d247-d223db869904"
      },
      "execution_count": null,
      "outputs": [
        {
          "output_type": "execute_result",
          "data": {
            "text/plain": [
              "array([[1, 2],\n",
              "       [4, 3]])"
            ]
          },
          "metadata": {},
          "execution_count": 186
        }
      ]
    },
    {
      "cell_type": "code",
      "source": [
        "arr3"
      ],
      "metadata": {
        "colab": {
          "base_uri": "https://localhost:8080/"
        },
        "id": "qAL61Lf1trvC",
        "outputId": "61ce5bb6-c89e-4f93-9305-4d73496d4f18"
      },
      "execution_count": null,
      "outputs": [
        {
          "output_type": "execute_result",
          "data": {
            "text/plain": [
              "array([[ 1,  8,  5,  9,  5],\n",
              "       [ 6,  7,  8,  9, 11],\n",
              "       [10,  2,  3,  4, 15]])"
            ]
          },
          "metadata": {},
          "execution_count": 187
        }
      ]
    },
    {
      "cell_type": "code",
      "source": [
        "#  2D array (2,3) filled with zeros\n",
        "zeros"
      ],
      "metadata": {
        "colab": {
          "base_uri": "https://localhost:8080/"
        },
        "id": "fuxWMXAarsQp",
        "outputId": "22c9a051-ae12-4a3e-9057-24cfd863ddbb"
      },
      "execution_count": null,
      "outputs": [
        {
          "output_type": "execute_result",
          "data": {
            "text/plain": [
              "array([[0., 0., 0.],\n",
              "       [0., 0., 0.]])"
            ]
          },
          "metadata": {},
          "execution_count": 188
        }
      ]
    },
    {
      "cell_type": "code",
      "source": [
        "# (3,3) array filled with ones\n",
        "ones"
      ],
      "metadata": {
        "colab": {
          "base_uri": "https://localhost:8080/"
        },
        "id": "S6cADPwIrvy8",
        "outputId": "451c8f5f-a913-49d4-b5f7-04ff1f3cf308"
      },
      "execution_count": null,
      "outputs": [
        {
          "output_type": "execute_result",
          "data": {
            "text/plain": [
              "array([[1., 1., 1.],\n",
              "       [1., 1., 1.],\n",
              "       [1., 1., 1.]])"
            ]
          },
          "metadata": {},
          "execution_count": 189
        }
      ]
    },
    {
      "cell_type": "code",
      "source": [
        "# 2x2 array filled with constant values of 7\n",
        "full"
      ],
      "metadata": {
        "colab": {
          "base_uri": "https://localhost:8080/"
        },
        "id": "KalZ7IDurxmc",
        "outputId": "30038832-5f17-43b8-a0c8-083a2e3c5a3c"
      },
      "execution_count": null,
      "outputs": [
        {
          "output_type": "execute_result",
          "data": {
            "text/plain": [
              "array([[7, 7],\n",
              "       [7, 7]])"
            ]
          },
          "metadata": {},
          "execution_count": 5
        }
      ]
    },
    {
      "cell_type": "code",
      "source": [
        "# 3x3 idenity matrix has 1's on the diagonal and 0's elsewhere\n",
        "eye"
      ],
      "metadata": {
        "colab": {
          "base_uri": "https://localhost:8080/"
        },
        "id": "N6L8UPXHUj10",
        "outputId": "e1265c1e-4c14-46a1-860f-eaa3c195273d"
      },
      "execution_count": null,
      "outputs": [
        {
          "output_type": "execute_result",
          "data": {
            "text/plain": [
              "array([[1., 0., 0.],\n",
              "       [0., 1., 0.],\n",
              "       [0., 0., 1.]])"
            ]
          },
          "metadata": {},
          "execution_count": 6
        }
      ]
    },
    {
      "cell_type": "code",
      "source": [
        "# 3x2 array filled with random floats between 0 and 1\n",
        "rand"
      ],
      "metadata": {
        "colab": {
          "base_uri": "https://localhost:8080/"
        },
        "id": "pLrpjUD1r0JQ",
        "outputId": "2fd0fd10-7452-4f57-c969-cf459a3afb08"
      },
      "execution_count": null,
      "outputs": [
        {
          "output_type": "execute_result",
          "data": {
            "text/plain": [
              "array([[0.10806377, 0.17890281],\n",
              "       [0.8858271 , 0.36536497],\n",
              "       [0.21876935, 0.75249617]])"
            ]
          },
          "metadata": {},
          "execution_count": 191
        }
      ]
    },
    {
      "cell_type": "code",
      "source": [
        "# (0,1,5) 5 evenly spaced numbers from 0 to 1\n",
        "lin"
      ],
      "metadata": {
        "colab": {
          "base_uri": "https://localhost:8080/"
        },
        "id": "-M9i87EZrj4X",
        "outputId": "6b665a10-6462-4ad4-bc79-34db8cc0b62c"
      },
      "execution_count": null,
      "outputs": [
        {
          "output_type": "execute_result",
          "data": {
            "text/plain": [
              "array([0.  , 0.25, 0.5 , 0.75, 1.  ])"
            ]
          },
          "metadata": {},
          "execution_count": 192
        }
      ]
    },
    {
      "cell_type": "code",
      "source": [
        "# create numbers from 0 to 10 ( excluding 10)\n",
        "range_arr"
      ],
      "metadata": {
        "colab": {
          "base_uri": "https://localhost:8080/"
        },
        "id": "SPBsdOWfr6Lb",
        "outputId": "147ab2ba-e195-417f-fbfd-fa8cc0f87144"
      },
      "execution_count": null,
      "outputs": [
        {
          "output_type": "execute_result",
          "data": {
            "text/plain": [
              "array([0, 2, 4, 6, 8])"
            ]
          },
          "metadata": {},
          "execution_count": 193
        }
      ]
    },
    {
      "cell_type": "markdown",
      "source": [
        "#  Array Information"
      ],
      "metadata": {
        "id": "CPraGWhDV6Zu"
      }
    },
    {
      "cell_type": "code",
      "source": [
        "# shape of the array\n",
        "arr2.shape"
      ],
      "metadata": {
        "colab": {
          "base_uri": "https://localhost:8080/"
        },
        "id": "L4tPEXL-sABp",
        "outputId": "99e9d63d-6611-40be-fbe8-5e16a076e9b7"
      },
      "execution_count": null,
      "outputs": [
        {
          "output_type": "execute_result",
          "data": {
            "text/plain": [
              "(2, 2)"
            ]
          },
          "metadata": {},
          "execution_count": 194
        }
      ]
    },
    {
      "cell_type": "code",
      "source": [
        "# number od dimensions\n",
        "arr2.ndim"
      ],
      "metadata": {
        "colab": {
          "base_uri": "https://localhost:8080/"
        },
        "id": "5RmwmZFlsHnz",
        "outputId": "f892b864-67d6-49a5-d1a7-dde8a3923da4"
      },
      "execution_count": null,
      "outputs": [
        {
          "output_type": "execute_result",
          "data": {
            "text/plain": [
              "2"
            ]
          },
          "metadata": {},
          "execution_count": 195
        }
      ]
    },
    {
      "cell_type": "code",
      "source": [
        "# Total number of elements\n",
        "# 2 rows x 2 columns = 4 elements in total\n",
        "arr2.size"
      ],
      "metadata": {
        "colab": {
          "base_uri": "https://localhost:8080/"
        },
        "id": "ex-JnI3YsM6k",
        "outputId": "6ab60efa-cdfe-48c3-d948-f55958c71d47"
      },
      "execution_count": null,
      "outputs": [
        {
          "output_type": "execute_result",
          "data": {
            "text/plain": [
              "4"
            ]
          },
          "metadata": {},
          "execution_count": 196
        }
      ]
    },
    {
      "cell_type": "code",
      "source": [
        "# data types of elements\n",
        "# 64 bit int\n",
        "arr2.dtype"
      ],
      "metadata": {
        "colab": {
          "base_uri": "https://localhost:8080/"
        },
        "id": "6IZi2fLRsQv0",
        "outputId": "22f0f15d-097f-4116-adf4-aea661f529e2"
      },
      "execution_count": null,
      "outputs": [
        {
          "output_type": "execute_result",
          "data": {
            "text/plain": [
              "dtype('int64')"
            ]
          },
          "metadata": {},
          "execution_count": 197
        }
      ]
    },
    {
      "cell_type": "code",
      "source": [
        "# size of each element in bytes\n",
        "# 8( for int64)\n",
        "# each element in the array takes 8 bytes ( if int64)\n",
        "arr2.itemsize"
      ],
      "metadata": {
        "colab": {
          "base_uri": "https://localhost:8080/"
        },
        "id": "1_Xm-xncsVNF",
        "outputId": "4c6fa5fc-15fb-41a9-e03e-d7c6a8005d37"
      },
      "execution_count": null,
      "outputs": [
        {
          "output_type": "execute_result",
          "data": {
            "text/plain": [
              "8"
            ]
          },
          "metadata": {},
          "execution_count": 198
        }
      ]
    },
    {
      "cell_type": "markdown",
      "source": [
        "# Reshaping and Flattening"
      ],
      "metadata": {
        "id": "Tvqb2MIQW-XM"
      }
    },
    {
      "cell_type": "code",
      "source": [
        "# change the shape\n",
        "# arr3: (3,5)= 15 elements  (5,3)= 15 elements\n",
        "\n",
        "arr3.reshape(5,3)"
      ],
      "metadata": {
        "colab": {
          "base_uri": "https://localhost:8080/"
        },
        "id": "bwml4pX_XFAN",
        "outputId": "1ac6f071-9bea-41c7-b536-26804874dc57"
      },
      "execution_count": null,
      "outputs": [
        {
          "output_type": "execute_result",
          "data": {
            "text/plain": [
              "array([[ 1,  8,  5],\n",
              "       [ 9,  5,  6],\n",
              "       [ 7,  8,  9],\n",
              "       [11, 10,  2],\n",
              "       [ 3,  4, 15]])"
            ]
          },
          "metadata": {},
          "execution_count": 8
        }
      ]
    },
    {
      "cell_type": "code",
      "source": [
        "# Flatten to 1D\n",
        "# 2D array arr2 into a 1D array\n",
        "arr2.ravel()"
      ],
      "metadata": {
        "colab": {
          "base_uri": "https://localhost:8080/"
        },
        "id": "9yQAyKGZspUN",
        "outputId": "d749eabe-42b0-43dc-9090-301f619c8651"
      },
      "execution_count": null,
      "outputs": [
        {
          "output_type": "execute_result",
          "data": {
            "text/plain": [
              "array([1, 2, 4, 3])"
            ]
          },
          "metadata": {},
          "execution_count": 199
        }
      ]
    },
    {
      "cell_type": "code",
      "source": [
        "# Transpose the array\n",
        "# swaps rows with columns\n",
        "arr2.T"
      ],
      "metadata": {
        "colab": {
          "base_uri": "https://localhost:8080/"
        },
        "id": "nhROW4jFsphD",
        "outputId": "8097dbbe-a64f-45ab-9dc1-6dbb54a2ca0b"
      },
      "execution_count": null,
      "outputs": [
        {
          "output_type": "execute_result",
          "data": {
            "text/plain": [
              "array([[1, 4],\n",
              "       [2, 3]])"
            ]
          },
          "metadata": {},
          "execution_count": 200
        }
      ]
    },
    {
      "cell_type": "code",
      "source": [
        "# add new dimension at axis\n",
        "# add a new dimension at the beginning ( axis 0)\n",
        "# arr2 shape : (2,2) --> new shape:(1,2,2) --> makes it a 3D array\n",
        "np.expand_dims(arr2,axis=1)"
      ],
      "metadata": {
        "colab": {
          "base_uri": "https://localhost:8080/"
        },
        "id": "pIIS5MrRtH6_",
        "outputId": "58e6581b-8d6a-4876-ce22-4c5df69abeda"
      },
      "execution_count": null,
      "outputs": [
        {
          "output_type": "execute_result",
          "data": {
            "text/plain": [
              "array([[[1, 2]],\n",
              "\n",
              "       [[4, 3]]])"
            ]
          },
          "metadata": {},
          "execution_count": 201
        }
      ]
    },
    {
      "cell_type": "markdown",
      "source": [
        "# Indexing and slicing"
      ],
      "metadata": {
        "id": "6visWT_FYiTm"
      }
    },
    {
      "cell_type": "code",
      "source": [
        "# access specific element\n",
        "# row 0, column >> 8\n",
        "arr3[0,1]"
      ],
      "metadata": {
        "colab": {
          "base_uri": "https://localhost:8080/"
        },
        "id": "vK2ZN3tjt--C",
        "outputId": "4e289fa5-d86e-4318-b25c-8429919fc22c"
      },
      "execution_count": null,
      "outputs": [
        {
          "output_type": "execute_result",
          "data": {
            "text/plain": [
              "np.int64(8)"
            ]
          },
          "metadata": {},
          "execution_count": 202
        }
      ]
    },
    {
      "cell_type": "code",
      "source": [
        "# get entire column 1\n",
        "# : meand all rows, 1 refers to column index 1\n",
        "arr3[:,1]"
      ],
      "metadata": {
        "colab": {
          "base_uri": "https://localhost:8080/"
        },
        "id": "qXLoyPX4t-5c",
        "outputId": "12a0905c-01d9-4252-80b8-d0efd018dd05"
      },
      "execution_count": null,
      "outputs": [
        {
          "output_type": "execute_result",
          "data": {
            "text/plain": [
              "array([8, 7, 2])"
            ]
          },
          "metadata": {},
          "execution_count": 203
        }
      ]
    },
    {
      "cell_type": "code",
      "source": [
        "# Get entire row 1\n",
        "# row index 1 , : means all columns\n",
        "arr3[1,:]"
      ],
      "metadata": {
        "colab": {
          "base_uri": "https://localhost:8080/"
        },
        "id": "PxLEhzCSuNCC",
        "outputId": "61e99aa1-8501-4ab3-da59-723943b2ab20"
      },
      "execution_count": null,
      "outputs": [
        {
          "output_type": "execute_result",
          "data": {
            "text/plain": [
              "array([ 6,  7,  8,  9, 11])"
            ]
          },
          "metadata": {},
          "execution_count": 204
        }
      ]
    },
    {
      "cell_type": "code",
      "source": [
        "# slicing submatrix\n",
        "# row: from index 0 to 2 ( 3 is excluded --> rows 0,1,2)\n",
        "# columns: from index 0 ro1 ( 2 is excluded --> columns 0 and 1)\n",
        "arr3[0:3,0:2]"
      ],
      "metadata": {
        "colab": {
          "base_uri": "https://localhost:8080/"
        },
        "id": "9U_lnQH9uTc3",
        "outputId": "f2dbc9d5-fcd5-4438-89c0-52a4ae2d85cc"
      },
      "execution_count": null,
      "outputs": [
        {
          "output_type": "execute_result",
          "data": {
            "text/plain": [
              "array([[ 1,  8],\n",
              "       [ 6,  7],\n",
              "       [10,  2]])"
            ]
          },
          "metadata": {},
          "execution_count": 205
        }
      ]
    },
    {
      "cell_type": "markdown",
      "source": [
        "# Array operations"
      ],
      "metadata": {
        "id": "YDJeAjKOZpHJ"
      }
    },
    {
      "cell_type": "code",
      "source": [
        "# add scalar , adds 10 to each element of arr3\n",
        "arr3 + 10"
      ],
      "metadata": {
        "colab": {
          "base_uri": "https://localhost:8080/"
        },
        "id": "4C6__JHMu9hX",
        "outputId": "84c54f75-0f0e-440a-9ade-a4b245a731d1"
      },
      "execution_count": null,
      "outputs": [
        {
          "output_type": "execute_result",
          "data": {
            "text/plain": [
              "array([[11, 18, 15, 19, 15],\n",
              "       [16, 17, 18, 19, 21],\n",
              "       [20, 12, 13, 14, 25]])"
            ]
          },
          "metadata": {},
          "execution_count": 206
        }
      ]
    },
    {
      "cell_type": "code",
      "source": [
        "# multiply by scalar , multiplies each element of arr3 by 2\n",
        "arr3 * 2"
      ],
      "metadata": {
        "colab": {
          "base_uri": "https://localhost:8080/"
        },
        "id": "VMuGsu_nvDwN",
        "outputId": "1104482c-0244-49aa-eedb-1afb2f44392c"
      },
      "execution_count": null,
      "outputs": [
        {
          "output_type": "execute_result",
          "data": {
            "text/plain": [
              "array([[ 2, 16, 10, 18, 10],\n",
              "       [12, 14, 16, 18, 22],\n",
              "       [20,  4,  6,  8, 30]])"
            ]
          },
          "metadata": {},
          "execution_count": 207
        }
      ]
    },
    {
      "cell_type": "code",
      "source": [
        "# element-wise addition\n",
        "# both arr2 and arr4 are of shape (2,2), adds corresponding elements from both arrays\n",
        "arr4=np.array([[5.4,6.9],[7.8,8]])\n",
        "arr4 + arr2"
      ],
      "metadata": {
        "colab": {
          "base_uri": "https://localhost:8080/"
        },
        "id": "d-SzQS0NvICe",
        "outputId": "1aaa0649-00ff-4766-f904-63575d1ca6a2"
      },
      "execution_count": null,
      "outputs": [
        {
          "output_type": "execute_result",
          "data": {
            "text/plain": [
              "array([[ 6.4,  8.9],\n",
              "       [11.8, 11. ]])"
            ]
          },
          "metadata": {},
          "execution_count": 208
        }
      ]
    },
    {
      "cell_type": "code",
      "source": [
        "# matrix dot product\n",
        "# arr2: shape(2,2)\n",
        "# arr4.T: shape (2,2) ( transpose of arr4, but same shape here)\n",
        "np.dot(arr2,arr4.T)"
      ],
      "metadata": {
        "colab": {
          "base_uri": "https://localhost:8080/"
        },
        "id": "sszL5IHTvdN3",
        "outputId": "7c217202-3435-4671-95ae-40e1ac8ed9f4"
      },
      "execution_count": null,
      "outputs": [
        {
          "output_type": "execute_result",
          "data": {
            "text/plain": [
              "array([[19.2, 23.8],\n",
              "       [42.3, 55.2]])"
            ]
          },
          "metadata": {},
          "execution_count": 209
        }
      ]
    },
    {
      "cell_type": "markdown",
      "source": [
        "How it's calculated:\n",
        "\n",
        "First row of arr2: [1, 2]\n",
        "\n",
        "dot with [5.4, 6.9] → 1 x5.4 + 2 x 6.9 = 5.4 + 13.8 = 19.2\n",
        "\n",
        "dot with [7.8, 8] → 1x7.8 + 2x8 = 7.8 + 16 = 23.8\n",
        "\n",
        "Second row of arr2: [4, 3]\n",
        "\n",
        "dot with [5.4, 6.9] → 4 x5.4 + 3 x 6.9 = 21.6 + 20.7 = 42.3\n",
        "\n",
        "dot with [7.8, 8] → 4x7.8 + 3x8 = 55.2"
      ],
      "metadata": {
        "id": "5e0GRBsGbFG3"
      }
    },
    {
      "cell_type": "code",
      "source": [
        "# element-wise product -- multiplies corresponding elements\n",
        "np.multiply(arr2,arr4)"
      ],
      "metadata": {
        "colab": {
          "base_uri": "https://localhost:8080/"
        },
        "id": "Tzoe3ALQvEYO",
        "outputId": "5a639f0f-a58e-4230-e0b0-5528435b8e43"
      },
      "execution_count": null,
      "outputs": [
        {
          "output_type": "execute_result",
          "data": {
            "text/plain": [
              "array([[ 5.4, 13.8],\n",
              "       [31.2, 24. ]])"
            ]
          },
          "metadata": {},
          "execution_count": 210
        }
      ]
    },
    {
      "cell_type": "markdown",
      "source": [
        "# Mathematical functions"
      ],
      "metadata": {
        "id": "EiOO4wDfcReA"
      }
    },
    {
      "cell_type": "code",
      "source": [
        "# sum of all elements\n",
        "# (1+2+3 = 6)\n",
        "np.sum(arr1)"
      ],
      "metadata": {
        "colab": {
          "base_uri": "https://localhost:8080/"
        },
        "id": "E4xIxIorvusw",
        "outputId": "643501e3-e957-4837-ba7b-379a63ac7ac1"
      },
      "execution_count": null,
      "outputs": [
        {
          "output_type": "execute_result",
          "data": {
            "text/plain": [
              "np.int64(6)"
            ]
          },
          "metadata": {},
          "execution_count": 211
        }
      ]
    },
    {
      "cell_type": "code",
      "source": [
        "# mean(average)\n",
        "# (1+2+3+4)/4 --> 2.5\n",
        "np.mean(arr2)"
      ],
      "metadata": {
        "colab": {
          "base_uri": "https://localhost:8080/"
        },
        "id": "FNHEyBCWvwUG",
        "outputId": "e024b963-a0e1-4615-d415-e9ced5168dbc"
      },
      "execution_count": null,
      "outputs": [
        {
          "output_type": "execute_result",
          "data": {
            "text/plain": [
              "np.float64(2.5)"
            ]
          },
          "metadata": {},
          "execution_count": 212
        }
      ]
    },
    {
      "cell_type": "code",
      "source": [
        "# median value\n",
        "np.median(arr3)"
      ],
      "metadata": {
        "colab": {
          "base_uri": "https://localhost:8080/"
        },
        "id": "Gd4Q-rO_v7Lf",
        "outputId": "9e67bfae-595c-4440-e2d3-8bdba6a017e0"
      },
      "execution_count": null,
      "outputs": [
        {
          "output_type": "execute_result",
          "data": {
            "text/plain": [
              "np.float64(7.0)"
            ]
          },
          "metadata": {},
          "execution_count": 213
        }
      ]
    },
    {
      "cell_type": "markdown",
      "source": [
        "flattend array [1,2,3,4,5,5,6,7,8,8,9,9,10,11,15]\n",
        "median = 7.0"
      ],
      "metadata": {
        "id": "XrG4F8DldbBo"
      }
    },
    {
      "cell_type": "code",
      "source": [
        "# standard deviation\n",
        "# ~ 3.59 ( measuews spread of values)\n",
        "np.std(arr3)"
      ],
      "metadata": {
        "colab": {
          "base_uri": "https://localhost:8080/"
        },
        "id": "TJW9q1wkwC2D",
        "outputId": "6bcfc3d3-94f2-41c3-c4ca-a5236ea8448a"
      },
      "execution_count": null,
      "outputs": [
        {
          "output_type": "execute_result",
          "data": {
            "text/plain": [
              "np.float64(3.5938218591849473)"
            ]
          },
          "metadata": {},
          "execution_count": 214
        }
      ]
    },
    {
      "cell_type": "markdown",
      "source": [
        "\n",
        "### Flatten it into a 1D array:\n",
        "\n",
        "```\n",
        "[1, 8, 5, 9, 5, 6, 7, 8, 9, 11, 10, 2, 3, 4, 15]\n",
        "```\n",
        "\n",
        "###  Step 1: Find the Mean\n",
        "\n",
        "Sum of all values:\n",
        "\n",
        "```\n",
        "1 + 8 + 5 + 9 + 5 + 6 + 7 + 8 + 9 + 11 + 10 + 2 + 3 + 4 + 15 = 103\n",
        "```\n",
        "\n",
        "Number of values = 15\n",
        "\n",
        "**Mean** $\\mu$ = Total sum / Count\n",
        "\n",
        "$$\n",
        "\\mu = \\frac{103}{15} \\approx 6.87\n",
        "$$\n",
        "\n",
        "---\n",
        "\n",
        "### Step 2: Find Squared Differences from Mean\n",
        "\n",
        "\n",
        "| Value | Difference from Mean | Square |\n",
        "| ----- | -------------------- | ------ |\n",
        "| 1     | 1 - 6.87 = -5.87     | 34.46  |\n",
        "| 8     | 1.13                 | 1.28   |\n",
        "| 5     | -1.87                | 3.50   |\n",
        "| 9     | 2.13                 | 4.53   |\n",
        "| 5     | -1.87                | 3.50   |\n",
        "| 6     | -0.87                | 0.76   |\n",
        "| 7     | 0.13                 | 0.02   |\n",
        "| 8     | 1.13                 | 1.28   |\n",
        "| 9     | 2.13                 | 4.53   |\n",
        "| 11    | 4.13                 | 17.06  |\n",
        "| 10    | 3.13                 | 9.80   |\n",
        "| 2     | -4.87                | 23.72  |\n",
        "| 3     | -3.87                | 14.97  |\n",
        "| 4     | -2.87                | 8.23   |\n",
        "| 15    | 8.13                 | 66.09  |\n",
        "\n",
        "---\n",
        "\n",
        "### Step 3: Take Mean of Squared Differences (Variance)\n",
        "\n",
        "Sum of squares:\n",
        "\n",
        "```\n",
        "34.46 + 1.28 + 3.50 + 4.53 + 3.50 + 0.76 + 0.02 + 1.28 + 4.53 + 17.06 + 9.80 + 23.72 + 14.97 + 8.23 + 66.09 = 193.73\n",
        "```\n",
        "\n",
        "Divide by number of elements (15):\n",
        "\n",
        "$$\n",
        "\\text{Variance} = \\frac{193.73}{15} \\approx 12.915\n",
        "$$\n",
        "\n",
        "---\n",
        "\n",
        "### Step 4: Square Root of Variance = Standard Deviation\n",
        "\n",
        "$$\n",
        "\\text{Standard Deviation} = \\sqrt{12.915} \\approx 3.59\n",
        "$$\n",
        "\n",
        "---\n",
        "\n",
        "###  Final Answer:\n",
        "\n",
        "```python\n",
        "np.std(arr3) ≈ 3.59\n",
        "```"
      ],
      "metadata": {
        "id": "X2PM4guXeOCR"
      }
    },
    {
      "cell_type": "code",
      "source": [
        "# variance\n",
        "np.var(arr3)"
      ],
      "metadata": {
        "colab": {
          "base_uri": "https://localhost:8080/"
        },
        "id": "0zZuk_XuwI5R",
        "outputId": "88c2d809-f6d9-452b-a3d5-b6027215378a"
      },
      "execution_count": null,
      "outputs": [
        {
          "output_type": "execute_result",
          "data": {
            "text/plain": [
              "np.float64(12.915555555555553)"
            ]
          },
          "metadata": {},
          "execution_count": 215
        }
      ]
    },
    {
      "cell_type": "markdown",
      "source": [
        "\n",
        "\n",
        "### Flatten it into a 1D array:\n",
        "\n",
        "```\n",
        "[1, 8, 5, 9, 5, 6, 7, 8, 9, 11, 10, 2, 3, 4, 15]\n",
        "```\n",
        "\n",
        "---\n",
        "\n",
        "###  Step 1: Find the Mean\n",
        "\n",
        "Sum of all values:\n",
        "\n",
        "```\n",
        "1 + 8 + 5 + 9 + 5 + 6 + 7 + 8 + 9 + 11 + 10 + 2 + 3 + 4 + 15 = 103\n",
        "```\n",
        "\n",
        "Number of values = 15\n",
        "\n",
        "**Mean** $\\mu$ = Total sum / Count\n",
        "\n",
        "$$\n",
        "\\mu = \\frac{103}{15} \\approx 6.87\n",
        "$$\n",
        "\n",
        "---\n",
        "\n",
        "###  Step 2: Find Squared Differences from Mean\n",
        "\n",
        "Now, subtract the mean from each value and square it:\n",
        "\n",
        "| Value | Difference from Mean | Square |\n",
        "| ----- | -------------------- | ------ |\n",
        "| 1     | 1 - 6.87 = -5.87     | 34.46  |\n",
        "| 8     | 1.13                 | 1.28   |\n",
        "| 5     | -1.87                | 3.50   |\n",
        "| 9     | 2.13                 | 4.53   |\n",
        "| 5     | -1.87                | 3.50   |\n",
        "| 6     | -0.87                | 0.76   |\n",
        "| 7     | 0.13                 | 0.02   |\n",
        "| 8     | 1.13                 | 1.28   |\n",
        "| 9     | 2.13                 | 4.53   |\n",
        "| 11    | 4.13                 | 17.06  |\n",
        "| 10    | 3.13                 | 9.80   |\n",
        "| 2     | -4.87                | 23.72  |\n",
        "| 3     | -3.87                | 14.97  |\n",
        "| 4     | -2.87                | 8.23   |\n",
        "| 15    | 8.13                 | 66.09  |\n",
        "\n",
        "---\n",
        "\n",
        "###  Step 3: Take Mean of Squared Differences (Variance)\n",
        "\n",
        "Sum of squares:\n",
        "\n",
        "```\n",
        "34.46 + 1.28 + 3.50 + 4.53 + 3.50 + 0.76 + 0.02 + 1.28 + 4.53 + 17.06 + 9.80 + 23.72 + 14.97 + 8.23 + 66.09 = 193.73\n",
        "```\n",
        "\n",
        "Divide by number of elements (15):\n",
        "\n",
        "$$\n",
        "\\text{Variance} = \\frac{193.73}{15} \\approx 12.915\n",
        "$$"
      ],
      "metadata": {
        "id": "dJMNUXQ8fBLU"
      }
    },
    {
      "cell_type": "code",
      "source": [
        "# minimum values\n",
        "np.min(arr4)"
      ],
      "metadata": {
        "colab": {
          "base_uri": "https://localhost:8080/"
        },
        "id": "SbFlAZWvwMgR",
        "outputId": "a15ac257-c390-4ddd-876a-f97943bd2af6"
      },
      "execution_count": null,
      "outputs": [
        {
          "output_type": "execute_result",
          "data": {
            "text/plain": [
              "np.float64(5.4)"
            ]
          },
          "metadata": {},
          "execution_count": 216
        }
      ]
    },
    {
      "cell_type": "code",
      "source": [
        "# maximum values\n",
        "np.max(arr3)"
      ],
      "metadata": {
        "colab": {
          "base_uri": "https://localhost:8080/"
        },
        "id": "5cncTdlJwQJ5",
        "outputId": "a91cf174-254a-4a45-8dcd-92b11a7b3e0b"
      },
      "execution_count": null,
      "outputs": [
        {
          "output_type": "execute_result",
          "data": {
            "text/plain": [
              "np.int64(15)"
            ]
          },
          "metadata": {},
          "execution_count": 217
        }
      ]
    },
    {
      "cell_type": "code",
      "source": [
        "# index of minimum elements\n",
        "# 0 --> 1 is the smallest , at index 0 in flattened view\n",
        "np.argmin(arr3)"
      ],
      "metadata": {
        "colab": {
          "base_uri": "https://localhost:8080/"
        },
        "id": "IIW--UaRwZUc",
        "outputId": "4a2e15b8-32dc-4888-d4bc-4a89d9ed9c4c"
      },
      "execution_count": null,
      "outputs": [
        {
          "output_type": "execute_result",
          "data": {
            "text/plain": [
              "np.int64(0)"
            ]
          },
          "metadata": {},
          "execution_count": 218
        }
      ]
    },
    {
      "cell_type": "code",
      "source": [
        "# index of maximum element\n",
        "# 14 --> 15 is the largest, at the index 14 in flattend view\n",
        "np.argmax(arr3)"
      ],
      "metadata": {
        "colab": {
          "base_uri": "https://localhost:8080/"
        },
        "id": "knhJUW6Dwg9C",
        "outputId": "8122dfec-d290-478a-8498-c6f972248fd1"
      },
      "execution_count": null,
      "outputs": [
        {
          "output_type": "execute_result",
          "data": {
            "text/plain": [
              "np.int64(14)"
            ]
          },
          "metadata": {},
          "execution_count": 219
        }
      ]
    },
    {
      "cell_type": "code",
      "source": [
        "# cumulative sum\n",
        "np.cumsum(arr3)"
      ],
      "metadata": {
        "colab": {
          "base_uri": "https://localhost:8080/"
        },
        "id": "GStohjJ4whsC",
        "outputId": "8520cf1c-bbc5-46fe-8534-b19d2f84eb50"
      },
      "execution_count": null,
      "outputs": [
        {
          "output_type": "execute_result",
          "data": {
            "text/plain": [
              "array([  1,   9,  14,  23,  28,  34,  41,  49,  58,  69,  79,  81,  84,\n",
              "        88, 103])"
            ]
          },
          "metadata": {},
          "execution_count": 220
        }
      ]
    },
    {
      "cell_type": "markdown",
      "source": [
        "### Flattening (because no `axis` is given)\n",
        "   NumPy first lays the 2-D array out as one long 1-D vector in C-style (row-major) order:\n",
        "\n",
        "   ```\n",
        "   [1, 8, 5, 9, 5,   6, 7, 8, 9, 11,   10, 2, 3, 4, 15]\n",
        "   ```\n",
        "\n",
        "### Running total.\n",
        "   Starting at the first element, it keeps adding each new value to the total so far:\n",
        "  ```python\n",
        "   | Index | Value | Running total |\n",
        "   | ----- | ----- | ------------- |\n",
        "   | 0     | 1     | 1             |\n",
        "   | 1     | 8     | 1 + 8   = 9   |\n",
        "   | 2     | 5     | 9 + 5   = 14  |\n",
        "   | 3     | 9     | 14 + 9  = 23  |\n",
        "   | 4     | 5     | 23 + 5  = 28  |\n",
        "   | 5     | 6     | 28 + 6  = 34  |\n",
        "   | 6     | 7     | 34 + 7  = 41  |\n",
        "   | 7     | 8     | 41 + 8  = 49  |\n",
        "   | 8     | 9     | 49 + 9  = 58  |\n",
        "   | 9     | 11    | 58 + 11 = 69  |\n",
        "   | 10    | 10    | 69 + 10 = 79  |\n",
        "   | 11    | 2     | 79 + 2  = 91  |\n",
        "   | 12    | 3     | 91 + 3  = 94  |\n",
        "   | 13    | 4     | 94 + 4  = 98  |\n",
        "   | 14    | 15    | 98 + 15 = 113 |\n",
        "   ```\n",
        "\n",
        "### Return value\n",
        "   The cumulative totals are stored in a new array of the same length:\n",
        "\n",
        "   ```python\n",
        "   array([  1,   9,  14,  23,  28,\n",
        "           34,  41,  49,  58,  69,\n",
        "           79,  91,  94,  98, 113])\n",
        "   ```\n",
        "\n",
        "---\n",
        "\n",
        "###   Why and when you’d change `axis`\n",
        "\n",
        "* **Row-wise running totals:** `np.cumsum(arr3, axis=1)`\n",
        "  – keeps each row separate and accumulates across the columns.\n",
        "\n",
        "* **Column-wise running totals:** `np.cumsum(arr3, axis=0)`\n",
        "  – accumulates down each column.\n",
        "\n"
      ],
      "metadata": {
        "id": "7yzq4zlxgUta"
      }
    },
    {
      "cell_type": "code",
      "source": [
        "# cumulative product\n",
        "np.cumprod(arr2)"
      ],
      "metadata": {
        "colab": {
          "base_uri": "https://localhost:8080/"
        },
        "id": "UebqeeoAwiIL",
        "outputId": "87d91b2c-fb28-4592-b1de-f0b5e170b0ab"
      },
      "execution_count": null,
      "outputs": [
        {
          "output_type": "execute_result",
          "data": {
            "text/plain": [
              "array([ 1,  2,  8, 24])"
            ]
          },
          "metadata": {},
          "execution_count": 221
        }
      ]
    },
    {
      "cell_type": "markdown",
      "source": [
        "\n",
        "###  Flattened version:\n",
        "\n",
        "```\n",
        "[1, 8, 5, 9, 5, 6, 7, 8, 9, 11, 10, 2, 3, 4, 15]\n",
        "```\n",
        "\n",
        "---\n",
        "\n",
        "### Step-by-step Cumulative Product:\n",
        "\n",
        "| Index | Value | Running Product                 |\n",
        "| ----- | ----- | ------------------------------- |\n",
        "| 0     | 1     | 1                               |\n",
        "| 1     | 8     | 1 × 8   = 8                     |\n",
        "| 2     | 5     | 8 × 5   = 40                    |\n",
        "| 3     | 9     | 40 × 9  = 360                   |\n",
        "| 4     | 5     | 360 × 5 = 1800                  |\n",
        "| 5     | 6     | 1800 × 6 = 10800                |\n",
        "| 6     | 7     | 10800 × 7 = 75600               |\n",
        "| 7     | 8     | 75600 × 8 = 604800              |\n",
        "| 8     | 9     | 604800 × 9 = 5443200            |\n",
        "| 9     | 11    | 5443200 × 11 = 59875200         |\n",
        "| 10    | 10    | 59875200 × 10 = 598752000       |\n",
        "| 11    | 2     | 598752000 × 2 = 1197504000      |\n",
        "| 12    | 3     | 1197504000 × 3 = 3592512000     |\n",
        "| 13    | 4     | 3592512000 × 4 = 14370048000    |\n",
        "| 14    | 15    | 14370048000 × 15 = 215550720000 |\n",
        "\n",
        "---\n",
        "\n",
        "### Final Output:\n",
        "\n",
        "```python\n",
        "array([\n",
        "         1,         8,        40,       360,      1800,\n",
        "     10800,     75600,    604800,   5443200,  59875200,\n",
        " 598752000, 1197504000, 3592512000,14370048000,215550720000\n",
        "])\n",
        "```\n"
      ],
      "metadata": {
        "id": "MrXpJPFRhWg3"
      }
    },
    {
      "cell_type": "code",
      "source": [
        "# round off to 0 decimal places\n",
        "np.round(arr4,0)"
      ],
      "metadata": {
        "colab": {
          "base_uri": "https://localhost:8080/"
        },
        "id": "1OEmI-hZxBR5",
        "outputId": "78896084-1a6c-4a28-91b5-6f94614af69d"
      },
      "execution_count": null,
      "outputs": [
        {
          "output_type": "execute_result",
          "data": {
            "text/plain": [
              "array([[5., 7.],\n",
              "       [8., 8.]])"
            ]
          },
          "metadata": {},
          "execution_count": 222
        }
      ]
    },
    {
      "cell_type": "code",
      "source": [
        "# unique elements\n",
        "np.unique(arr3)"
      ],
      "metadata": {
        "colab": {
          "base_uri": "https://localhost:8080/"
        },
        "id": "gqHa34eDxIx9",
        "outputId": "41e58ee2-60fa-4847-c810-42304d62d9fa"
      },
      "execution_count": null,
      "outputs": [
        {
          "output_type": "execute_result",
          "data": {
            "text/plain": [
              "array([ 1,  2,  3,  4,  5,  6,  7,  8,  9, 10, 11, 15])"
            ]
          },
          "metadata": {},
          "execution_count": 223
        }
      ]
    },
    {
      "cell_type": "markdown",
      "source": [
        "# Logical and comparison"
      ],
      "metadata": {
        "id": "MSHU3VLFh1tk"
      }
    },
    {
      "cell_type": "code",
      "source": [
        "# element - wise comparison\n",
        "# compares each element to 5 and returns a boolean array (True or False)\n",
        "arr3>5"
      ],
      "metadata": {
        "colab": {
          "base_uri": "https://localhost:8080/"
        },
        "id": "MBkXXnjCxhMX",
        "outputId": "09178afe-cca0-49af-bffd-da37f09eb2a7"
      },
      "execution_count": null,
      "outputs": [
        {
          "output_type": "execute_result",
          "data": {
            "text/plain": [
              "array([[False,  True, False,  True, False],\n",
              "       [ True,  True,  True,  True,  True],\n",
              "       [ True, False, False, False,  True]])"
            ]
          },
          "metadata": {},
          "execution_count": 224
        }
      ]
    },
    {
      "cell_type": "code",
      "source": [
        "# conditional replacement\n",
        "# if (element > 3) -->1, else --> 0\n",
        "np.where(arr3>3,1,0)"
      ],
      "metadata": {
        "colab": {
          "base_uri": "https://localhost:8080/"
        },
        "id": "q8hZXoytxlyn",
        "outputId": "519c52af-f797-4b9a-b0a6-ba8fe6b2e6bf"
      },
      "execution_count": null,
      "outputs": [
        {
          "output_type": "execute_result",
          "data": {
            "text/plain": [
              "array([[0, 1, 1, 1, 1],\n",
              "       [1, 1, 1, 1, 1],\n",
              "       [1, 0, 0, 1, 1]])"
            ]
          },
          "metadata": {},
          "execution_count": 225
        }
      ]
    },
    {
      "cell_type": "code",
      "source": [
        "# check if any element is > 4\n",
        "# returns true if at least one element is greater than 4\n",
        "np.any(arr3>4)"
      ],
      "metadata": {
        "colab": {
          "base_uri": "https://localhost:8080/"
        },
        "id": "4si84Z64xuDZ",
        "outputId": "551e2a6e-43a9-46ff-e27d-562579a18d3a"
      },
      "execution_count": null,
      "outputs": [
        {
          "output_type": "execute_result",
          "data": {
            "text/plain": [
              "np.True_"
            ]
          },
          "metadata": {},
          "execution_count": 226
        }
      ]
    },
    {
      "cell_type": "code",
      "source": [
        "# check if all elements > 0\n",
        "# returns true if all elements are greater than 0\n",
        "np.all(arr3> 0)"
      ],
      "metadata": {
        "colab": {
          "base_uri": "https://localhost:8080/"
        },
        "id": "PTU72d44x3Ap",
        "outputId": "b48fb231-831e-4237-abb3-903bda892051"
      },
      "execution_count": null,
      "outputs": [
        {
          "output_type": "execute_result",
          "data": {
            "text/plain": [
              "np.True_"
            ]
          },
          "metadata": {},
          "execution_count": 227
        }
      ]
    },
    {
      "cell_type": "markdown",
      "source": [
        "# Copying and Broadcasting"
      ],
      "metadata": {
        "id": "Co8md84Hjlnc"
      }
    },
    {
      "cell_type": "code",
      "source": [
        "# Deep copy , copy_arr is completely independent of arr3\n",
        "copy_arr=arr3.copy()\n",
        "copy_arr"
      ],
      "metadata": {
        "colab": {
          "base_uri": "https://localhost:8080/"
        },
        "id": "iztzTk8ex70B",
        "outputId": "4ab7ebac-4936-4333-fcd1-2bb77a9a0b58"
      },
      "execution_count": null,
      "outputs": [
        {
          "output_type": "execute_result",
          "data": {
            "text/plain": [
              "array([[ 1,  8,  5,  9,  5],\n",
              "       [ 6,  7,  8,  9, 11],\n",
              "       [10,  2,  3,  4, 15]])"
            ]
          },
          "metadata": {},
          "execution_count": 228
        }
      ]
    },
    {
      "cell_type": "code",
      "source": [
        "# broadcasting,\n",
        "broadcasting= arr2 + np.array([1,2])\n",
        "broadcasting"
      ],
      "metadata": {
        "colab": {
          "base_uri": "https://localhost:8080/"
        },
        "id": "ySYVyU9DyHGy",
        "outputId": "2ff5fd89-73a8-4fef-d459-13f262ba9699"
      },
      "execution_count": null,
      "outputs": [
        {
          "output_type": "execute_result",
          "data": {
            "text/plain": [
              "array([[2, 4],\n",
              "       [5, 5]])"
            ]
          },
          "metadata": {},
          "execution_count": 10
        }
      ]
    },
    {
      "cell_type": "markdown",
      "source": [
        "broadcasted = [[1+1, 2+2],\n",
        "               [4+1, 3+2]]\n",
        "           => [[2, 4],\n",
        "               [5, 5]]\n"
      ],
      "metadata": {
        "id": "7ohnJgm9k7Jv"
      }
    },
    {
      "cell_type": "markdown",
      "source": [
        "# Handling missing data"
      ],
      "metadata": {
        "id": "cueCpdVNlD5y"
      }
    },
    {
      "cell_type": "code",
      "source": [
        "# check for NaN values, each element is true if it's NaN else false\n",
        "np.isnan(arr3)"
      ],
      "metadata": {
        "colab": {
          "base_uri": "https://localhost:8080/"
        },
        "id": "HwUjpGXUyTZE",
        "outputId": "7ae16199-1a76-4058-eaf0-a1b66f5581ea"
      },
      "execution_count": null,
      "outputs": [
        {
          "output_type": "execute_result",
          "data": {
            "text/plain": [
              "array([[False, False, False, False, False],\n",
              "       [False, False, False, False, False],\n",
              "       [False, False, False, False, False]])"
            ]
          },
          "metadata": {},
          "execution_count": 230
        }
      ]
    },
    {
      "cell_type": "code",
      "source": [
        "# Replace NaN with 0\n",
        "arr=np.nan_to_num(arr3)\n",
        "arr"
      ],
      "metadata": {
        "colab": {
          "base_uri": "https://localhost:8080/"
        },
        "id": "flOqqHMlyl6T",
        "outputId": "0047d7e6-f108-4f6f-879d-1b553f293b25"
      },
      "execution_count": null,
      "outputs": [
        {
          "output_type": "execute_result",
          "data": {
            "text/plain": [
              "array([[ 1,  8,  5,  9,  5],\n",
              "       [ 6,  7,  8,  9, 11],\n",
              "       [10,  2,  3,  4, 15]])"
            ]
          },
          "metadata": {},
          "execution_count": 231
        }
      ]
    },
    {
      "cell_type": "markdown",
      "source": [
        "# Saving and loading arrays"
      ],
      "metadata": {
        "id": "0Bq2PkmHlnfH"
      }
    },
    {
      "cell_type": "code",
      "source": [
        "# save as binary .npy files\n",
        "np.save('data.npy',arr)"
      ],
      "metadata": {
        "id": "-naJyx0hy2wU"
      },
      "execution_count": null,
      "outputs": []
    },
    {
      "cell_type": "code",
      "source": [
        "# load binary .npy files\n",
        "np.load('data.npy')"
      ],
      "metadata": {
        "colab": {
          "base_uri": "https://localhost:8080/"
        },
        "id": "MYoeDMxWy9zN",
        "outputId": "4e42b1fc-255a-497b-8049-afe456484cdb"
      },
      "execution_count": null,
      "outputs": [
        {
          "output_type": "execute_result",
          "data": {
            "text/plain": [
              "array([[ 1,  8,  5,  9,  5],\n",
              "       [ 6,  7,  8,  9, 11],\n",
              "       [10,  2,  3,  4, 15]])"
            ]
          },
          "metadata": {},
          "execution_count": 233
        }
      ]
    },
    {
      "cell_type": "code",
      "source": [
        "# save as csv\n",
        "np.savetxt('data.csv',arr,delimiter=',')"
      ],
      "metadata": {
        "id": "-lHJpOo9zCw9"
      },
      "execution_count": null,
      "outputs": []
    },
    {
      "cell_type": "code",
      "source": [
        "# load csv\n",
        "np.loadtxt('data.csv',delimiter=',')"
      ],
      "metadata": {
        "colab": {
          "base_uri": "https://localhost:8080/"
        },
        "id": "6V3NvjD7zM9y",
        "outputId": "08e861fa-1433-4987-98b6-a88abff3cafd"
      },
      "execution_count": null,
      "outputs": [
        {
          "output_type": "execute_result",
          "data": {
            "text/plain": [
              "array([[ 1.,  8.,  5.,  9.,  5.],\n",
              "       [ 6.,  7.,  8.,  9., 11.],\n",
              "       [10.,  2.,  3.,  4., 15.]])"
            ]
          },
          "metadata": {},
          "execution_count": 235
        }
      ]
    },
    {
      "cell_type": "markdown",
      "source": [
        "# Random madule"
      ],
      "metadata": {
        "id": "64CWnkwNmPSF"
      }
    },
    {
      "cell_type": "code",
      "source": [
        "# set random seed - to fixed values ( 10 in this case)\n",
        "# this ensures reproduciblity - every time you run your code, you will get the same random results\n",
        "a=np.random.seed(10)\n",
        "a"
      ],
      "metadata": {
        "id": "yPBByyjZzV05"
      },
      "execution_count": null,
      "outputs": []
    },
    {
      "cell_type": "code",
      "source": [
        "# generate normal distribution\n",
        "# generate 100 random numbers from a normal distribution 0: mean ( center of the distribution) 1: SD\n",
        "np.random.normal(0,1,100)"
      ],
      "metadata": {
        "colab": {
          "base_uri": "https://localhost:8080/"
        },
        "id": "-auaWPL9zcJg",
        "outputId": "3f1114bf-b9b6-466c-eed9-c10b6f11e1b3"
      },
      "execution_count": null,
      "outputs": [
        {
          "output_type": "execute_result",
          "data": {
            "text/plain": [
              "array([ 1.3315865 ,  0.71527897, -1.54540029, -0.00838385,  0.62133597,\n",
              "       -0.72008556,  0.26551159,  0.10854853,  0.00429143, -0.17460021,\n",
              "        0.43302619,  1.20303737, -0.96506567,  1.02827408,  0.22863013,\n",
              "        0.44513761, -1.13660221,  0.13513688,  1.484537  , -1.07980489,\n",
              "       -1.97772828, -1.7433723 ,  0.26607016,  2.38496733,  1.12369125,\n",
              "        1.67262221,  0.09914922,  1.39799638, -0.27124799,  0.61320418,\n",
              "       -0.26731719, -0.54930901,  0.1327083 , -0.47614201,  1.30847308,\n",
              "        0.19501328,  0.40020999, -0.33763234,  1.25647226, -0.7319695 ,\n",
              "        0.66023155, -0.35087189, -0.93943336, -0.48933722, -0.80459114,\n",
              "       -0.21269764, -0.33914025,  0.31216994,  0.56515267, -0.14742026,\n",
              "       -0.02590534,  0.2890942 , -0.53987907,  0.70816002,  0.84222474,\n",
              "        0.2035808 ,  2.39470366,  0.91745894, -0.11227247, -0.36218045,\n",
              "       -0.23218226, -0.5017289 ,  1.12878515, -0.69781003, -0.08112218,\n",
              "       -0.52929608,  1.04618286, -1.41855603, -0.36249918, -0.12190569,\n",
              "        0.31935642,  0.4609029 , -0.21578989,  0.98907246,  0.31475378,\n",
              "        2.46765106, -1.50832149,  0.62060066, -1.04513254, -0.79800882,\n",
              "        1.98508459,  1.74481415, -1.85618548, -0.2227737 , -0.06584785,\n",
              "       -2.13171211, -0.04883051,  0.39334122,  0.21726515, -1.99439377,\n",
              "        1.10770823,  0.24454398, -0.06191203, -0.75389296,  0.71195902,\n",
              "        0.91826915, -0.48209314,  0.08958761,  0.82699862, -1.95451212])"
            ]
          },
          "metadata": {},
          "execution_count": 237
        }
      ]
    },
    {
      "cell_type": "code",
      "source": [
        "# random row selection\n",
        "np.random.choice(arr.shape[0],size=3,replace=False)"
      ],
      "metadata": {
        "colab": {
          "base_uri": "https://localhost:8080/"
        },
        "id": "FIkF3qZjznwY",
        "outputId": "e0093a68-d7bb-4fca-fa52-51c9ee86acda"
      },
      "execution_count": null,
      "outputs": [
        {
          "output_type": "execute_result",
          "data": {
            "text/plain": [
              "array([0, 1, 2])"
            ]
          },
          "metadata": {},
          "execution_count": 250
        }
      ]
    },
    {
      "cell_type": "code",
      "source": [
        "# random integers\n",
        "# random integers between low (1) and high(10)\n",
        "np.random.randint(1, 10, size=5)"
      ],
      "metadata": {
        "colab": {
          "base_uri": "https://localhost:8080/"
        },
        "id": "2sEhqqCznVlN",
        "outputId": "0ca5a376-bbf5-49d9-a7e4-6b236f72f1e0"
      },
      "execution_count": null,
      "outputs": [
        {
          "output_type": "execute_result",
          "data": {
            "text/plain": [
              "array([2, 5, 8, 4, 6])"
            ]
          },
          "metadata": {},
          "execution_count": 12
        }
      ]
    },
    {
      "cell_type": "code",
      "source": [
        "np.random.randint(1, 10, size=(2,3))"
      ],
      "metadata": {
        "colab": {
          "base_uri": "https://localhost:8080/"
        },
        "id": "jSZL3DpqoDw4",
        "outputId": "02d7b4b0-2a8e-4194-9b93-26498edc8a2e"
      },
      "execution_count": null,
      "outputs": [
        {
          "output_type": "execute_result",
          "data": {
            "text/plain": [
              "array([[4, 9, 2],\n",
              "       [7, 9, 3]])"
            ]
          },
          "metadata": {},
          "execution_count": 14
        }
      ]
    },
    {
      "cell_type": "code",
      "source": [
        "# random permulation ( shuffling)\n",
        "np.random.permutation(5)"
      ],
      "metadata": {
        "colab": {
          "base_uri": "https://localhost:8080/"
        },
        "id": "fq8CTCtpnVry",
        "outputId": "114d7684-a4a1-41e4-d878-e1f6f8e0d314"
      },
      "execution_count": null,
      "outputs": [
        {
          "output_type": "execute_result",
          "data": {
            "text/plain": [
              "array([1, 4, 3, 0, 2])"
            ]
          },
          "metadata": {},
          "execution_count": 13
        }
      ]
    },
    {
      "cell_type": "code",
      "source": [
        "np.random.permutation([50,30,11])"
      ],
      "metadata": {
        "colab": {
          "base_uri": "https://localhost:8080/"
        },
        "id": "RzJSdDaZoJi2",
        "outputId": "9b55837a-1e26-4c4c-c043-a9d0de051b24"
      },
      "execution_count": null,
      "outputs": [
        {
          "output_type": "execute_result",
          "data": {
            "text/plain": [
              "array([50, 11, 30])"
            ]
          },
          "metadata": {},
          "execution_count": 15
        }
      ]
    },
    {
      "cell_type": "code",
      "source": [
        "# random floats from uniform distribution\n",
        "# random float values between low to high\n",
        "np.random.uniform(5,10,size=5)"
      ],
      "metadata": {
        "colab": {
          "base_uri": "https://localhost:8080/"
        },
        "id": "geVNwIv_nV1x",
        "outputId": "41dac999-4759-49b7-9a26-541436ded188"
      },
      "execution_count": null,
      "outputs": [
        {
          "output_type": "execute_result",
          "data": {
            "text/plain": [
              "array([8.57124638, 9.4720552 , 8.86235978, 9.1635764 , 9.49237758])"
            ]
          },
          "metadata": {},
          "execution_count": 16
        }
      ]
    },
    {
      "cell_type": "markdown",
      "source": [
        "# Matrix and linear algebra\n",
        "## linalg stands for Linear Algebra\n",
        "---"
      ],
      "metadata": {
        "id": "lSDnWNszom-B"
      }
    },
    {
      "cell_type": "code",
      "source": [
        "# matrix inverse\n",
        "# calculates the inverse of a square matrix arr2\n",
        "# A @ A⁻¹ = I (identity matrix), then inverse is valid.\n",
        "np.linalg.inv(arr2)"
      ],
      "metadata": {
        "colab": {
          "base_uri": "https://localhost:8080/"
        },
        "id": "m1RqqRKrz_Q_",
        "outputId": "f6e34804-8eee-4279-f3b0-ab4053ad2f43"
      },
      "execution_count": null,
      "outputs": [
        {
          "output_type": "execute_result",
          "data": {
            "text/plain": [
              "array([[-0.6,  0.4],\n",
              "       [ 0.8, -0.2]])"
            ]
          },
          "metadata": {},
          "execution_count": 239
        }
      ]
    },
    {
      "cell_type": "code",
      "source": [
        "# determinant\n",
        "np.linalg.det(arr2)"
      ],
      "metadata": {
        "colab": {
          "base_uri": "https://localhost:8080/"
        },
        "id": "OshE6ucq0Xa6",
        "outputId": "af359069-6f49-4229-8410-4e5351ff9d04"
      },
      "execution_count": null,
      "outputs": [
        {
          "output_type": "execute_result",
          "data": {
            "text/plain": [
              "np.float64(-4.999999999999999)"
            ]
          },
          "metadata": {},
          "execution_count": 240
        }
      ]
    },
    {
      "cell_type": "markdown",
      "source": [
        "\n",
        "* `det ≠ 0` → the matrix is **invertible**\n",
        "* `det = 0` → the matrix is **singular** (not invertible)\n",
        "\n",
        "\n",
        "\n",
        "##  Example with Your Matrix:\n",
        "\n",
        "```python\n",
        "arr2 = np.array([[1, 2],\n",
        "                 [4, 3]])\n",
        "```\n",
        "\n",
        "### For a 2x2 matrix:\n",
        "\n",
        "If\n",
        "\n",
        "```\n",
        "A = [[a, b],\n",
        "     [c, d]]\n",
        "```\n",
        "\n",
        "Then the **determinant** is:\n",
        "\n",
        "```\n",
        "det(A) = (a * d) - (b * c)\n",
        "```\n",
        "\n",
        "###  Apply to `arr2`:\n",
        "\n",
        "```\n",
        "a = 1, b = 2\n",
        "c = 4, d = 3\n",
        "\n",
        "det(arr2) = (1 * 3) - (2 * 4)\n",
        "           = 3 - 8\n",
        "           = -5\n",
        "```\n",
        "\n",
        "\n",
        "```python\n",
        "np.linalg.det(arr2) → -5.0\n",
        "```\n",
        "\n"
      ],
      "metadata": {
        "id": "CdxiALSTq1q_"
      }
    },
    {
      "cell_type": "code",
      "source": [
        "# Eigenvalues and eigenvectors\n",
        "np.linalg.eig(arr2)"
      ],
      "metadata": {
        "colab": {
          "base_uri": "https://localhost:8080/"
        },
        "id": "UthXKyPd0c_Q",
        "outputId": "f00b4f09-e237-46ce-9762-6f72c0e24574"
      },
      "execution_count": null,
      "outputs": [
        {
          "output_type": "execute_result",
          "data": {
            "text/plain": [
              "EigResult(eigenvalues=array([-1.,  5.]), eigenvectors=array([[-0.70710678, -0.4472136 ],\n",
              "       [ 0.70710678, -0.89442719]]))"
            ]
          },
          "metadata": {},
          "execution_count": 246
        }
      ]
    },
    {
      "cell_type": "markdown",
      "source": [
        "\n",
        "* **Eigenvalues** (λ)\n",
        "* **Eigenvectors** (v)\n",
        "\n",
        "from the matrix `arr2`.\n",
        "\n",
        "It solves the equation:\n",
        "\n",
        "```\n",
        "A · v = λ · v\n",
        "```\n",
        "\n",
        "Where:\n",
        "\n",
        "* `A` is your matrix\n",
        "* `λ` are **eigenvalues**\n",
        "* `v` are **eigenvectors**\n",
        "\n",
        "\n",
        "\n",
        "```python\n",
        "arr2 = np.array([\n",
        "    [1, 2],\n",
        "    [4, 3]\n",
        "])\n",
        "```\n",
        "\n",
        "\n",
        "##  Output Explanation:\n",
        "\n",
        "```python\n",
        "eigenvalues = array([-1., 5.])\n",
        "eigenvectors = array([\n",
        "    [-0.70710678, -0.4472136 ],\n",
        "    [ 0.70710678, -0.89442719]\n",
        "])\n",
        "```\n",
        "\n",
        "\n",
        "###  1. Eigenvalues\n",
        "\n",
        "```python\n",
        "[-1.0, 5.0]\n",
        "```\n",
        "\n",
        "These are the scalars `λ` such that:\n",
        "\n",
        "```\n",
        "arr2 · v = λ · v\n",
        "```\n",
        "\n",
        "* `5.0` → dominant eigenvalue (larger)\n",
        "* `-1.0` → secondary eigenvalue\n",
        "\n",
        "\n",
        "###  2. Eigenvectors\n",
        "\n",
        "Each column corresponds to an eigenvector for its matching eigenvalue.\n",
        "\n",
        "So:\n",
        "\n",
        "* First column → eigenvector for `-1.0`\n",
        "* Second column → eigenvector for `5.0`\n",
        "\n",
        "```python\n",
        "Eigenvector for -1.0 = [-0.7071,  0.7071]\n",
        "Eigenvector for  5.0 = [-0.4472, -0.8944]\n",
        "```\n",
        "\n"
      ],
      "metadata": {
        "id": "9pT8P7zurkQX"
      }
    },
    {
      "cell_type": "code",
      "source": [
        "# solve linear system\n",
        "# arr2 × X = arr4 --> X= arr4/arr2\n",
        "np.linalg.solve(arr2,arr4)"
      ],
      "metadata": {
        "colab": {
          "base_uri": "https://localhost:8080/"
        },
        "id": "DoRi-Y9v0Xg1",
        "outputId": "5925e9c0-48b9-4bbb-a318-8baee9d3b3de"
      },
      "execution_count": null,
      "outputs": [
        {
          "output_type": "execute_result",
          "data": {
            "text/plain": [
              "array([[-0.12, -0.94],\n",
              "       [ 2.76,  3.92]])"
            ]
          },
          "metadata": {},
          "execution_count": 241
        }
      ]
    },
    {
      "cell_type": "markdown",
      "source": [
        "# useful utility"
      ],
      "metadata": {
        "id": "Ip7EPPaXsE1i"
      }
    },
    {
      "cell_type": "code",
      "source": [
        "# Limit values within a range\n",
        "# limit (clamps) all values in arr to be between 0 and 10 , if values < 0 --> its set to 0, if a values is > 10 --> its sets to 10\n",
        "np.clip(arr,0,10)"
      ],
      "metadata": {
        "colab": {
          "base_uri": "https://localhost:8080/"
        },
        "id": "WMUJfjWt0t_u",
        "outputId": "46088041-0891-4878-b433-c1b6676e0e55"
      },
      "execution_count": null,
      "outputs": [
        {
          "output_type": "execute_result",
          "data": {
            "text/plain": [
              "array([[ 1,  8,  5,  9,  5],\n",
              "       [ 6,  7,  8,  9, 10],\n",
              "       [10,  2,  3,  4, 10]])"
            ]
          },
          "metadata": {},
          "execution_count": 245
        }
      ]
    },
    {
      "cell_type": "code",
      "source": [
        "# sort by columns\n",
        "# axis=0 --> vertical ( down each column)\n",
        "np.sort(arr3,axis=0)"
      ],
      "metadata": {
        "colab": {
          "base_uri": "https://localhost:8080/"
        },
        "id": "9WyEsIMi0zS4",
        "outputId": "29ee9fe5-d353-4319-af3a-38128d65bc86"
      },
      "execution_count": null,
      "outputs": [
        {
          "output_type": "execute_result",
          "data": {
            "text/plain": [
              "array([[ 1,  2,  3,  4,  5],\n",
              "       [ 6,  7,  5,  9, 11],\n",
              "       [10,  8,  8,  9, 15]])"
            ]
          },
          "metadata": {},
          "execution_count": 249
        }
      ]
    },
    {
      "cell_type": "code",
      "source": [
        "# get indices that would sort the array\n",
        "# returns the indices that would aodrt arr in ascending order\n",
        "np.argsort(arr)"
      ],
      "metadata": {
        "colab": {
          "base_uri": "https://localhost:8080/"
        },
        "id": "ourXh3H80-sB",
        "outputId": "ab700150-bc25-46f9-dedc-8c91718bdb9f"
      },
      "execution_count": null,
      "outputs": [
        {
          "output_type": "execute_result",
          "data": {
            "text/plain": [
              "array([[0, 2, 4, 1, 3],\n",
              "       [0, 1, 2, 3, 4],\n",
              "       [1, 2, 3, 0, 4]])"
            ]
          },
          "metadata": {},
          "execution_count": 244
        }
      ]
    },
    {
      "cell_type": "code",
      "source": [
        "# find the 30th percentile\n",
        "# finds the value below which 30% of the data lies\n",
        "np.percentile(arr,30)"
      ],
      "metadata": {
        "colab": {
          "base_uri": "https://localhost:8080/"
        },
        "id": "zc7NVKAA1EGl",
        "outputId": "d161bbe6-2ce5-43f6-fee0-e0bd8ab2e600"
      },
      "execution_count": null,
      "outputs": [
        {
          "output_type": "execute_result",
          "data": {
            "text/plain": [
              "np.float64(5.0)"
            ]
          },
          "metadata": {},
          "execution_count": 243
        }
      ]
    },
    {
      "cell_type": "markdown",
      "source": [
        "# full numpy analysis"
      ],
      "metadata": {
        "id": "QTOwvqsrvWc2"
      }
    },
    {
      "cell_type": "code",
      "source": [
        "import pandas as pd"
      ],
      "metadata": {
        "id": "DED_HBj-2gxx"
      },
      "execution_count": 18,
      "outputs": []
    },
    {
      "cell_type": "code",
      "source": [
        "# load data\n",
        "df=pd.read_csv('/content/market_data.csv')"
      ],
      "metadata": {
        "id": "oBLHYssp2mVs"
      },
      "execution_count": 20,
      "outputs": []
    },
    {
      "cell_type": "code",
      "source": [
        "# convert DataFrame to numpy array\n",
        "data=df.to_numpy()"
      ],
      "metadata": {
        "id": "07HEdEfN27MI"
      },
      "execution_count": 21,
      "outputs": []
    },
    {
      "cell_type": "code",
      "source": [
        "# rows and columns\n",
        "data.shape"
      ],
      "metadata": {
        "colab": {
          "base_uri": "https://localhost:8080/"
        },
        "id": "puV1_DcMwCcw",
        "outputId": "f619e8ed-cd59-461a-94d4-9dcf1cc77d44"
      },
      "execution_count": 41,
      "outputs": [
        {
          "output_type": "execute_result",
          "data": {
            "text/plain": [
              "(992, 8)"
            ]
          },
          "metadata": {},
          "execution_count": 41
        }
      ]
    },
    {
      "cell_type": "code",
      "source": [
        "# mean = average\n",
        "mean=np.mean(data,axis=0)\n",
        "mean"
      ],
      "metadata": {
        "colab": {
          "base_uri": "https://localhost:8080/"
        },
        "id": "eg3Qlq183DYB",
        "outputId": "2054e71c-7df1-4fff-ee8a-5e759dfbe958"
      },
      "execution_count": 22,
      "outputs": [
        {
          "output_type": "execute_result",
          "data": {
            "text/plain": [
              "array([1.71327119e+05, 3.05930343e+01, 2.51139113e-01, 9.86787399e+01,\n",
              "       4.94526210e-01, 1.45998286e+01, 1.47956956e+03, 1.59650428e+03])"
            ]
          },
          "metadata": {},
          "execution_count": 22
        }
      ]
    },
    {
      "cell_type": "code",
      "source": [
        "# measures how spread out the values are from the mean\n",
        "std=np.std(data,axis=0)\n",
        "std"
      ],
      "metadata": {
        "colab": {
          "base_uri": "https://localhost:8080/"
        },
        "id": "jjtePl_F3Kk5",
        "outputId": "f5841a7e-3455-4bd1-d933-81b7b3b43e79"
      },
      "execution_count": 23,
      "outputs": [
        {
          "output_type": "execute_result",
          "data": {
            "text/plain": [
              "array([8.13568058e+04, 1.74842841e+01, 1.45274396e-01, 5.70885512e+01,\n",
              "       2.86665650e-01, 8.71113948e+00, 8.84973244e+02, 9.27007192e+02])"
            ]
          },
          "metadata": {},
          "execution_count": 23
        }
      ]
    },
    {
      "cell_type": "code",
      "source": [
        "# smallest values\n",
        "min=np.min(data,axis=0)\n",
        "min"
      ],
      "metadata": {
        "colab": {
          "base_uri": "https://localhost:8080/"
        },
        "id": "Irdh1W0g3YpG",
        "outputId": "141acee4-6a2a-459f-8763-314c929775f8"
      },
      "execution_count": 24,
      "outputs": [
        {
          "output_type": "execute_result",
          "data": {
            "text/plain": [
              "array([1.992e+03, 1.900e-01, 0.000e+00, 1.300e-01, 0.000e+00, 1.400e-01,\n",
              "       4.000e+00, 1.254e+01])"
            ]
          },
          "metadata": {},
          "execution_count": 24
        }
      ]
    },
    {
      "cell_type": "code",
      "source": [
        "# largest values\n",
        "max=np.max(data,axis=0)\n",
        "max"
      ],
      "metadata": {
        "colab": {
          "base_uri": "https://localhost:8080/"
        },
        "id": "1-C8rsTz3eeX",
        "outputId": "cd9c6860-ab0a-4164-aa8f-6ffafc2ac49f"
      },
      "execution_count": 25,
      "outputs": [
        {
          "output_type": "execute_result",
          "data": {
            "text/plain": [
              "array([3.93914e+05, 5.99600e+01, 5.00000e-01, 1.99910e+02, 1.00000e+00,\n",
              "       2.99900e+01, 2.99700e+03, 3.19827e+03])"
            ]
          },
          "metadata": {},
          "execution_count": 25
        }
      ]
    },
    {
      "cell_type": "code",
      "source": [
        "# correlation matrix\n",
        "# transpose the matrix so that each row becomes a features/columns\n",
        "# np.corrcoef() --> computes pearson crrelation cofficients between columns\n",
        "correlation=np.corrcoef(data.T)\n",
        "correlation"
      ],
      "metadata": {
        "colab": {
          "base_uri": "https://localhost:8080/"
        },
        "id": "0hr0DKy53lCl",
        "outputId": "ddbd01e0-7f1a-4d20-9f85-536e2a1782df"
      },
      "execution_count": 26,
      "outputs": [
        {
          "output_type": "execute_result",
          "data": {
            "text/plain": [
              "array([[ 1.00000000e+00,  5.77708002e-01,  1.09981939e-02,\n",
              "         4.13330312e-01, -7.24346027e-02, -6.73372350e-01,\n",
              "        -1.53619238e-02,  4.23850963e-02],\n",
              "       [ 5.77708002e-01,  1.00000000e+00,  2.88301028e-02,\n",
              "        -1.85335034e-02,  3.17467013e-02,  4.49066779e-02,\n",
              "        -8.72849276e-02,  3.32677786e-02],\n",
              "       [ 1.09981939e-02,  2.88301028e-02,  1.00000000e+00,\n",
              "        -1.36513476e-02, -1.26165374e-02,  1.26036539e-02,\n",
              "        -4.32776640e-03, -3.46000797e-02],\n",
              "       [ 4.13330312e-01, -1.85335034e-02, -1.36513476e-02,\n",
              "         1.00000000e+00, -4.50784360e-02, -1.35694204e-02,\n",
              "        -9.19703810e-04,  1.23816682e-02],\n",
              "       [-7.24346027e-02,  3.17467013e-02, -1.26165374e-02,\n",
              "        -4.50784360e-02,  1.00000000e+00,  3.67558989e-02,\n",
              "        -1.41255911e-03, -4.63319862e-03],\n",
              "       [-6.73372350e-01,  4.49066779e-02,  1.26036539e-02,\n",
              "        -1.35694204e-02,  3.67558989e-02,  1.00000000e+00,\n",
              "        -5.50589312e-02, -2.29716893e-02],\n",
              "       [-1.53619238e-02, -8.72849276e-02, -4.32776640e-03,\n",
              "        -9.19703810e-04, -1.41255911e-03, -5.50589312e-02,\n",
              "         1.00000000e+00,  4.54248875e-02],\n",
              "       [ 4.23850963e-02,  3.32677786e-02, -3.46000797e-02,\n",
              "         1.23816682e-02, -4.63319862e-03, -2.29716893e-02,\n",
              "         4.54248875e-02,  1.00000000e+00]])"
            ]
          },
          "metadata": {},
          "execution_count": 26
        }
      ]
    },
    {
      "cell_type": "code",
      "source": [
        "# data → NumPy array of the numerical data.\n",
        "# df.columns.get_loc('Price') → Gets the index (column position) of 'Price'.\n",
        "# data_np[:, index] > 10 → Creates a boolean mask for rows where Price > 10.\n",
        "# The result is all rows from data_np where the condition is true.\n",
        "high_price_rows= data[data[:,df.columns.get_loc('Price')]>10]\n",
        "high_price_rows"
      ],
      "metadata": {
        "colab": {
          "base_uri": "https://localhost:8080/"
        },
        "id": "iZATiTpz3wxV",
        "outputId": "0a0b09cc-02fc-459f-e717-efcab57c7fae"
      },
      "execution_count": 27,
      "outputs": [
        {
          "output_type": "execute_result",
          "data": {
            "text/plain": [
              "array([[2.40368e+05, 5.99000e+01, 4.60000e-01, ..., 1.25600e+01,\n",
              "        1.06500e+03, 1.08160e+03],\n",
              "       [8.26970e+04, 4.69400e+01, 2.70000e-01, ..., 2.89000e+01,\n",
              "        1.40700e+03, 1.85527e+03],\n",
              "       [2.71990e+05, 5.70800e+01, 1.70000e-01, ..., 1.56000e+01,\n",
              "        1.72300e+03, 2.91629e+03],\n",
              "       ...,\n",
              "       [3.28940e+04, 2.27900e+01, 4.90000e-01, ..., 2.92300e+01,\n",
              "        5.03000e+02, 1.02022e+03],\n",
              "       [3.90910e+04, 1.38400e+01, 1.40000e-01, ..., 2.31300e+01,\n",
              "        2.90200e+03, 1.20103e+03],\n",
              "       [3.72900e+04, 7.81000e+00, 1.90000e-01, ..., 2.34000e+01,\n",
              "        1.82000e+03, 6.53620e+02]])"
            ]
          },
          "metadata": {},
          "execution_count": 27
        }
      ]
    },
    {
      "cell_type": "code",
      "source": [
        "# min - max normalization\n",
        "# subract min and divide by range --> scales each feature to the range [0,1]\n",
        "norm_data =(data - np.min(data,axis=0))/(np.max(data,axis=0)- np.min(data,axis=0))\n",
        "norm_data"
      ],
      "metadata": {
        "colab": {
          "base_uri": "https://localhost:8080/"
        },
        "id": "D6x8L8aA4Gn6",
        "outputId": "427097a9-26bc-4770-9c99-a84c6ca60d67"
      },
      "execution_count": 28,
      "outputs": [
        {
          "output_type": "execute_result",
          "data": {
            "text/plain": [
              "array([[0.60822306, 0.99899615, 0.92      , ..., 0.4160804 , 0.35449382,\n",
              "        0.33557772],\n",
              "       [0.5237879 , 0.11862138, 0.78      , ..., 0.17755444, 0.61075844,\n",
              "        0.2004878 ],\n",
              "       [0.43523967, 0.16095031, 0.82      , ..., 0.11390285, 0.19478784,\n",
              "        0.33085666],\n",
              "       ...,\n",
              "       [0.07884732, 0.37811611, 0.98      , ..., 0.97453936, 0.16672235,\n",
              "        0.31631055],\n",
              "       [0.09465914, 0.22837544, 0.28      , ..., 0.77018425, 0.96825927,\n",
              "        0.37306677],\n",
              "       [0.09006384, 0.12748871, 0.38      , ..., 0.77922948, 0.60674908,\n",
              "        0.20123488]])"
            ]
          },
          "metadata": {},
          "execution_count": 28
        }
      ]
    },
    {
      "cell_type": "code",
      "source": [
        "#  Calculates the mean of each numeric column and rounds the result to 2 decimal places\n",
        "np.round(df.mean(numeric_only=True),2)"
      ],
      "metadata": {
        "colab": {
          "base_uri": "https://localhost:8080/",
          "height": 335
        },
        "id": "ZolDdYqj4u6B",
        "outputId": "15caca4a-7e87-45db-f63c-4cd4acb04b1e"
      },
      "execution_count": 29,
      "outputs": [
        {
          "output_type": "execute_result",
          "data": {
            "text/plain": [
              "Sale                 171327.12\n",
              "InStrSpending            30.59\n",
              "Discount                  0.25\n",
              "TVSpending               98.68\n",
              "StockRate                 0.49\n",
              "Price                    14.60\n",
              "Radio                  1479.57\n",
              "OnlineAdsSpending      1596.50\n",
              "dtype: float64"
            ],
            "text/html": [
              "<div>\n",
              "<style scoped>\n",
              "    .dataframe tbody tr th:only-of-type {\n",
              "        vertical-align: middle;\n",
              "    }\n",
              "\n",
              "    .dataframe tbody tr th {\n",
              "        vertical-align: top;\n",
              "    }\n",
              "\n",
              "    .dataframe thead th {\n",
              "        text-align: right;\n",
              "    }\n",
              "</style>\n",
              "<table border=\"1\" class=\"dataframe\">\n",
              "  <thead>\n",
              "    <tr style=\"text-align: right;\">\n",
              "      <th></th>\n",
              "      <th>0</th>\n",
              "    </tr>\n",
              "  </thead>\n",
              "  <tbody>\n",
              "    <tr>\n",
              "      <th>Sale</th>\n",
              "      <td>171327.12</td>\n",
              "    </tr>\n",
              "    <tr>\n",
              "      <th>InStrSpending</th>\n",
              "      <td>30.59</td>\n",
              "    </tr>\n",
              "    <tr>\n",
              "      <th>Discount</th>\n",
              "      <td>0.25</td>\n",
              "    </tr>\n",
              "    <tr>\n",
              "      <th>TVSpending</th>\n",
              "      <td>98.68</td>\n",
              "    </tr>\n",
              "    <tr>\n",
              "      <th>StockRate</th>\n",
              "      <td>0.49</td>\n",
              "    </tr>\n",
              "    <tr>\n",
              "      <th>Price</th>\n",
              "      <td>14.60</td>\n",
              "    </tr>\n",
              "    <tr>\n",
              "      <th>Radio</th>\n",
              "      <td>1479.57</td>\n",
              "    </tr>\n",
              "    <tr>\n",
              "      <th>OnlineAdsSpending</th>\n",
              "      <td>1596.50</td>\n",
              "    </tr>\n",
              "  </tbody>\n",
              "</table>\n",
              "</div><br><label><b>dtype:</b> float64</label>"
            ]
          },
          "metadata": {},
          "execution_count": 29
        }
      ]
    },
    {
      "cell_type": "code",
      "source": [
        "# Returns the minimum value of each numeric column in the DataFrame, rounded to 2 decimal places\n",
        "np.round(df.min(numeric_only=True),2)"
      ],
      "metadata": {
        "colab": {
          "base_uri": "https://localhost:8080/",
          "height": 335
        },
        "id": "waeNdhjD6EzZ",
        "outputId": "67ff43b0-f6fb-463d-a564-1d70e9dfa9ba"
      },
      "execution_count": 30,
      "outputs": [
        {
          "output_type": "execute_result",
          "data": {
            "text/plain": [
              "Sale                 1992.00\n",
              "InStrSpending           0.19\n",
              "Discount                0.00\n",
              "TVSpending              0.13\n",
              "StockRate               0.00\n",
              "Price                   0.14\n",
              "Radio                   4.00\n",
              "OnlineAdsSpending      12.54\n",
              "dtype: float64"
            ],
            "text/html": [
              "<div>\n",
              "<style scoped>\n",
              "    .dataframe tbody tr th:only-of-type {\n",
              "        vertical-align: middle;\n",
              "    }\n",
              "\n",
              "    .dataframe tbody tr th {\n",
              "        vertical-align: top;\n",
              "    }\n",
              "\n",
              "    .dataframe thead th {\n",
              "        text-align: right;\n",
              "    }\n",
              "</style>\n",
              "<table border=\"1\" class=\"dataframe\">\n",
              "  <thead>\n",
              "    <tr style=\"text-align: right;\">\n",
              "      <th></th>\n",
              "      <th>0</th>\n",
              "    </tr>\n",
              "  </thead>\n",
              "  <tbody>\n",
              "    <tr>\n",
              "      <th>Sale</th>\n",
              "      <td>1992.00</td>\n",
              "    </tr>\n",
              "    <tr>\n",
              "      <th>InStrSpending</th>\n",
              "      <td>0.19</td>\n",
              "    </tr>\n",
              "    <tr>\n",
              "      <th>Discount</th>\n",
              "      <td>0.00</td>\n",
              "    </tr>\n",
              "    <tr>\n",
              "      <th>TVSpending</th>\n",
              "      <td>0.13</td>\n",
              "    </tr>\n",
              "    <tr>\n",
              "      <th>StockRate</th>\n",
              "      <td>0.00</td>\n",
              "    </tr>\n",
              "    <tr>\n",
              "      <th>Price</th>\n",
              "      <td>0.14</td>\n",
              "    </tr>\n",
              "    <tr>\n",
              "      <th>Radio</th>\n",
              "      <td>4.00</td>\n",
              "    </tr>\n",
              "    <tr>\n",
              "      <th>OnlineAdsSpending</th>\n",
              "      <td>12.54</td>\n",
              "    </tr>\n",
              "  </tbody>\n",
              "</table>\n",
              "</div><br><label><b>dtype:</b> float64</label>"
            ]
          },
          "metadata": {},
          "execution_count": 30
        }
      ]
    },
    {
      "cell_type": "code",
      "source": [
        "# Returns the maximum value of each numeric column rounded to 2 decimal places\n",
        "np.round(df.max(numeric_only=True),2)"
      ],
      "metadata": {
        "colab": {
          "base_uri": "https://localhost:8080/",
          "height": 335
        },
        "id": "dykWkRG46UkS",
        "outputId": "ffb22e6d-2a98-4f26-95a6-574725234827"
      },
      "execution_count": 31,
      "outputs": [
        {
          "output_type": "execute_result",
          "data": {
            "text/plain": [
              "Sale                 393914.00\n",
              "InStrSpending            59.96\n",
              "Discount                  0.50\n",
              "TVSpending              199.91\n",
              "StockRate                 1.00\n",
              "Price                    29.99\n",
              "Radio                  2997.00\n",
              "OnlineAdsSpending      3198.27\n",
              "dtype: float64"
            ],
            "text/html": [
              "<div>\n",
              "<style scoped>\n",
              "    .dataframe tbody tr th:only-of-type {\n",
              "        vertical-align: middle;\n",
              "    }\n",
              "\n",
              "    .dataframe tbody tr th {\n",
              "        vertical-align: top;\n",
              "    }\n",
              "\n",
              "    .dataframe thead th {\n",
              "        text-align: right;\n",
              "    }\n",
              "</style>\n",
              "<table border=\"1\" class=\"dataframe\">\n",
              "  <thead>\n",
              "    <tr style=\"text-align: right;\">\n",
              "      <th></th>\n",
              "      <th>0</th>\n",
              "    </tr>\n",
              "  </thead>\n",
              "  <tbody>\n",
              "    <tr>\n",
              "      <th>Sale</th>\n",
              "      <td>393914.00</td>\n",
              "    </tr>\n",
              "    <tr>\n",
              "      <th>InStrSpending</th>\n",
              "      <td>59.96</td>\n",
              "    </tr>\n",
              "    <tr>\n",
              "      <th>Discount</th>\n",
              "      <td>0.50</td>\n",
              "    </tr>\n",
              "    <tr>\n",
              "      <th>TVSpending</th>\n",
              "      <td>199.91</td>\n",
              "    </tr>\n",
              "    <tr>\n",
              "      <th>StockRate</th>\n",
              "      <td>1.00</td>\n",
              "    </tr>\n",
              "    <tr>\n",
              "      <th>Price</th>\n",
              "      <td>29.99</td>\n",
              "    </tr>\n",
              "    <tr>\n",
              "      <th>Radio</th>\n",
              "      <td>2997.00</td>\n",
              "    </tr>\n",
              "    <tr>\n",
              "      <th>OnlineAdsSpending</th>\n",
              "      <td>3198.27</td>\n",
              "    </tr>\n",
              "  </tbody>\n",
              "</table>\n",
              "</div><br><label><b>dtype:</b> float64</label>"
            ]
          },
          "metadata": {},
          "execution_count": 31
        }
      ]
    },
    {
      "cell_type": "code",
      "source": [
        "# Sums each numeric column and rounds the result to 2 decimal places\n",
        "np.round(df.sum(numeric_only=True),2)"
      ],
      "metadata": {
        "colab": {
          "base_uri": "https://localhost:8080/",
          "height": 335
        },
        "id": "6uGzfAfF6mCe",
        "outputId": "d82d3293-25d0-46a9-8dbe-93b2d596ae2a"
      },
      "execution_count": 32,
      "outputs": [
        {
          "output_type": "execute_result",
          "data": {
            "text/plain": [
              "Sale                 1.699565e+08\n",
              "InStrSpending        3.034829e+04\n",
              "Discount             2.491300e+02\n",
              "TVSpending           9.788931e+04\n",
              "StockRate            4.905700e+02\n",
              "Price                1.448303e+04\n",
              "Radio                1.467733e+06\n",
              "OnlineAdsSpending    1.583732e+06\n",
              "dtype: float64"
            ],
            "text/html": [
              "<div>\n",
              "<style scoped>\n",
              "    .dataframe tbody tr th:only-of-type {\n",
              "        vertical-align: middle;\n",
              "    }\n",
              "\n",
              "    .dataframe tbody tr th {\n",
              "        vertical-align: top;\n",
              "    }\n",
              "\n",
              "    .dataframe thead th {\n",
              "        text-align: right;\n",
              "    }\n",
              "</style>\n",
              "<table border=\"1\" class=\"dataframe\">\n",
              "  <thead>\n",
              "    <tr style=\"text-align: right;\">\n",
              "      <th></th>\n",
              "      <th>0</th>\n",
              "    </tr>\n",
              "  </thead>\n",
              "  <tbody>\n",
              "    <tr>\n",
              "      <th>Sale</th>\n",
              "      <td>1.699565e+08</td>\n",
              "    </tr>\n",
              "    <tr>\n",
              "      <th>InStrSpending</th>\n",
              "      <td>3.034829e+04</td>\n",
              "    </tr>\n",
              "    <tr>\n",
              "      <th>Discount</th>\n",
              "      <td>2.491300e+02</td>\n",
              "    </tr>\n",
              "    <tr>\n",
              "      <th>TVSpending</th>\n",
              "      <td>9.788931e+04</td>\n",
              "    </tr>\n",
              "    <tr>\n",
              "      <th>StockRate</th>\n",
              "      <td>4.905700e+02</td>\n",
              "    </tr>\n",
              "    <tr>\n",
              "      <th>Price</th>\n",
              "      <td>1.448303e+04</td>\n",
              "    </tr>\n",
              "    <tr>\n",
              "      <th>Radio</th>\n",
              "      <td>1.467733e+06</td>\n",
              "    </tr>\n",
              "    <tr>\n",
              "      <th>OnlineAdsSpending</th>\n",
              "      <td>1.583732e+06</td>\n",
              "    </tr>\n",
              "  </tbody>\n",
              "</table>\n",
              "</div><br><label><b>dtype:</b> float64</label>"
            ]
          },
          "metadata": {},
          "execution_count": 32
        }
      ]
    },
    {
      "cell_type": "code",
      "source": [
        "# Calculates the standard deviation of all numeric columns and rounds the result to 2 decimal places\n",
        "np.round(df.std(numeric_only=True),2)"
      ],
      "metadata": {
        "colab": {
          "base_uri": "https://localhost:8080/",
          "height": 335
        },
        "id": "gSxSVPn66tnx",
        "outputId": "560e65d0-768e-4146-8d72-de7318db1918"
      },
      "execution_count": 33,
      "outputs": [
        {
          "output_type": "execute_result",
          "data": {
            "text/plain": [
              "Sale                 81397.84\n",
              "InStrSpending           17.49\n",
              "Discount                 0.15\n",
              "TVSpending              57.12\n",
              "StockRate                0.29\n",
              "Price                    8.72\n",
              "Radio                  885.42\n",
              "OnlineAdsSpending      927.47\n",
              "dtype: float64"
            ],
            "text/html": [
              "<div>\n",
              "<style scoped>\n",
              "    .dataframe tbody tr th:only-of-type {\n",
              "        vertical-align: middle;\n",
              "    }\n",
              "\n",
              "    .dataframe tbody tr th {\n",
              "        vertical-align: top;\n",
              "    }\n",
              "\n",
              "    .dataframe thead th {\n",
              "        text-align: right;\n",
              "    }\n",
              "</style>\n",
              "<table border=\"1\" class=\"dataframe\">\n",
              "  <thead>\n",
              "    <tr style=\"text-align: right;\">\n",
              "      <th></th>\n",
              "      <th>0</th>\n",
              "    </tr>\n",
              "  </thead>\n",
              "  <tbody>\n",
              "    <tr>\n",
              "      <th>Sale</th>\n",
              "      <td>81397.84</td>\n",
              "    </tr>\n",
              "    <tr>\n",
              "      <th>InStrSpending</th>\n",
              "      <td>17.49</td>\n",
              "    </tr>\n",
              "    <tr>\n",
              "      <th>Discount</th>\n",
              "      <td>0.15</td>\n",
              "    </tr>\n",
              "    <tr>\n",
              "      <th>TVSpending</th>\n",
              "      <td>57.12</td>\n",
              "    </tr>\n",
              "    <tr>\n",
              "      <th>StockRate</th>\n",
              "      <td>0.29</td>\n",
              "    </tr>\n",
              "    <tr>\n",
              "      <th>Price</th>\n",
              "      <td>8.72</td>\n",
              "    </tr>\n",
              "    <tr>\n",
              "      <th>Radio</th>\n",
              "      <td>885.42</td>\n",
              "    </tr>\n",
              "    <tr>\n",
              "      <th>OnlineAdsSpending</th>\n",
              "      <td>927.47</td>\n",
              "    </tr>\n",
              "  </tbody>\n",
              "</table>\n",
              "</div><br><label><b>dtype:</b> float64</label>"
            ]
          },
          "metadata": {},
          "execution_count": 33
        }
      ]
    },
    {
      "cell_type": "code",
      "source": [
        "# Calculates and rounds variance of all numeric columns to 2 decimal places\n",
        "np.round(df.var(numeric_only=True),2)"
      ],
      "metadata": {
        "colab": {
          "base_uri": "https://localhost:8080/",
          "height": 335
        },
        "id": "WjkZfEA863gY",
        "outputId": "b2927760-cd98-4c70-f86b-e7940e18812d"
      },
      "execution_count": 34,
      "outputs": [
        {
          "output_type": "execute_result",
          "data": {
            "text/plain": [
              "Sale                 6.625609e+09\n",
              "InStrSpending        3.060100e+02\n",
              "Discount             2.000000e-02\n",
              "TVSpending           3.262390e+03\n",
              "StockRate            8.000000e-02\n",
              "Price                7.596000e+01\n",
              "Radio                7.839679e+05\n",
              "OnlineAdsSpending    8.602095e+05\n",
              "dtype: float64"
            ],
            "text/html": [
              "<div>\n",
              "<style scoped>\n",
              "    .dataframe tbody tr th:only-of-type {\n",
              "        vertical-align: middle;\n",
              "    }\n",
              "\n",
              "    .dataframe tbody tr th {\n",
              "        vertical-align: top;\n",
              "    }\n",
              "\n",
              "    .dataframe thead th {\n",
              "        text-align: right;\n",
              "    }\n",
              "</style>\n",
              "<table border=\"1\" class=\"dataframe\">\n",
              "  <thead>\n",
              "    <tr style=\"text-align: right;\">\n",
              "      <th></th>\n",
              "      <th>0</th>\n",
              "    </tr>\n",
              "  </thead>\n",
              "  <tbody>\n",
              "    <tr>\n",
              "      <th>Sale</th>\n",
              "      <td>6.625609e+09</td>\n",
              "    </tr>\n",
              "    <tr>\n",
              "      <th>InStrSpending</th>\n",
              "      <td>3.060100e+02</td>\n",
              "    </tr>\n",
              "    <tr>\n",
              "      <th>Discount</th>\n",
              "      <td>2.000000e-02</td>\n",
              "    </tr>\n",
              "    <tr>\n",
              "      <th>TVSpending</th>\n",
              "      <td>3.262390e+03</td>\n",
              "    </tr>\n",
              "    <tr>\n",
              "      <th>StockRate</th>\n",
              "      <td>8.000000e-02</td>\n",
              "    </tr>\n",
              "    <tr>\n",
              "      <th>Price</th>\n",
              "      <td>7.596000e+01</td>\n",
              "    </tr>\n",
              "    <tr>\n",
              "      <th>Radio</th>\n",
              "      <td>7.839679e+05</td>\n",
              "    </tr>\n",
              "    <tr>\n",
              "      <th>OnlineAdsSpending</th>\n",
              "      <td>8.602095e+05</td>\n",
              "    </tr>\n",
              "  </tbody>\n",
              "</table>\n",
              "</div><br><label><b>dtype:</b> float64</label>"
            ]
          },
          "metadata": {},
          "execution_count": 34
        }
      ]
    },
    {
      "cell_type": "code",
      "source": [
        "# Calculate cumulative sum of each column, take first 5 rows, and round values to 2 decimal places\n",
        "np.round(df.cumsum().head(),2)"
      ],
      "metadata": {
        "colab": {
          "base_uri": "https://localhost:8080/",
          "height": 206
        },
        "id": "optdENY17Acd",
        "outputId": "2728b603-a8ce-45fb-fbcc-3bb39ef40c6d"
      },
      "execution_count": 35,
      "outputs": [
        {
          "output_type": "execute_result",
          "data": {
            "text/plain": [
              "     Sale  InStrSpending  Discount  TVSpending  StockRate  Price  Radio  \\\n",
              "0  240368          59.90      0.46       46.30       0.45  12.56   1065   \n",
              "1  447644          67.18      0.85      213.21       0.50  18.00   2897   \n",
              "2  620216          76.99      1.26      286.88       0.56  21.54   3484   \n",
              "3  702913         123.93      1.53      320.83       1.44  50.44   4891   \n",
              "4  844675         126.52      1.79      403.46       1.80  55.10   6948   \n",
              "\n",
              "   OnlineAdsSpending  \n",
              "0            1081.60  \n",
              "1            1732.84  \n",
              "2            2799.40  \n",
              "3            4654.67  \n",
              "4            6263.58  "
            ],
            "text/html": [
              "\n",
              "  <div id=\"df-e7032344-9c0c-4188-b882-f574349e1a66\" class=\"colab-df-container\">\n",
              "    <div>\n",
              "<style scoped>\n",
              "    .dataframe tbody tr th:only-of-type {\n",
              "        vertical-align: middle;\n",
              "    }\n",
              "\n",
              "    .dataframe tbody tr th {\n",
              "        vertical-align: top;\n",
              "    }\n",
              "\n",
              "    .dataframe thead th {\n",
              "        text-align: right;\n",
              "    }\n",
              "</style>\n",
              "<table border=\"1\" class=\"dataframe\">\n",
              "  <thead>\n",
              "    <tr style=\"text-align: right;\">\n",
              "      <th></th>\n",
              "      <th>Sale</th>\n",
              "      <th>InStrSpending</th>\n",
              "      <th>Discount</th>\n",
              "      <th>TVSpending</th>\n",
              "      <th>StockRate</th>\n",
              "      <th>Price</th>\n",
              "      <th>Radio</th>\n",
              "      <th>OnlineAdsSpending</th>\n",
              "    </tr>\n",
              "  </thead>\n",
              "  <tbody>\n",
              "    <tr>\n",
              "      <th>0</th>\n",
              "      <td>240368</td>\n",
              "      <td>59.90</td>\n",
              "      <td>0.46</td>\n",
              "      <td>46.30</td>\n",
              "      <td>0.45</td>\n",
              "      <td>12.56</td>\n",
              "      <td>1065</td>\n",
              "      <td>1081.60</td>\n",
              "    </tr>\n",
              "    <tr>\n",
              "      <th>1</th>\n",
              "      <td>447644</td>\n",
              "      <td>67.18</td>\n",
              "      <td>0.85</td>\n",
              "      <td>213.21</td>\n",
              "      <td>0.50</td>\n",
              "      <td>18.00</td>\n",
              "      <td>2897</td>\n",
              "      <td>1732.84</td>\n",
              "    </tr>\n",
              "    <tr>\n",
              "      <th>2</th>\n",
              "      <td>620216</td>\n",
              "      <td>76.99</td>\n",
              "      <td>1.26</td>\n",
              "      <td>286.88</td>\n",
              "      <td>0.56</td>\n",
              "      <td>21.54</td>\n",
              "      <td>3484</td>\n",
              "      <td>2799.40</td>\n",
              "    </tr>\n",
              "    <tr>\n",
              "      <th>3</th>\n",
              "      <td>702913</td>\n",
              "      <td>123.93</td>\n",
              "      <td>1.53</td>\n",
              "      <td>320.83</td>\n",
              "      <td>1.44</td>\n",
              "      <td>50.44</td>\n",
              "      <td>4891</td>\n",
              "      <td>4654.67</td>\n",
              "    </tr>\n",
              "    <tr>\n",
              "      <th>4</th>\n",
              "      <td>844675</td>\n",
              "      <td>126.52</td>\n",
              "      <td>1.79</td>\n",
              "      <td>403.46</td>\n",
              "      <td>1.80</td>\n",
              "      <td>55.10</td>\n",
              "      <td>6948</td>\n",
              "      <td>6263.58</td>\n",
              "    </tr>\n",
              "  </tbody>\n",
              "</table>\n",
              "</div>\n",
              "    <div class=\"colab-df-buttons\">\n",
              "\n",
              "  <div class=\"colab-df-container\">\n",
              "    <button class=\"colab-df-convert\" onclick=\"convertToInteractive('df-e7032344-9c0c-4188-b882-f574349e1a66')\"\n",
              "            title=\"Convert this dataframe to an interactive table.\"\n",
              "            style=\"display:none;\">\n",
              "\n",
              "  <svg xmlns=\"http://www.w3.org/2000/svg\" height=\"24px\" viewBox=\"0 -960 960 960\">\n",
              "    <path d=\"M120-120v-720h720v720H120Zm60-500h600v-160H180v160Zm220 220h160v-160H400v160Zm0 220h160v-160H400v160ZM180-400h160v-160H180v160Zm440 0h160v-160H620v160ZM180-180h160v-160H180v160Zm440 0h160v-160H620v160Z\"/>\n",
              "  </svg>\n",
              "    </button>\n",
              "\n",
              "  <style>\n",
              "    .colab-df-container {\n",
              "      display:flex;\n",
              "      gap: 12px;\n",
              "    }\n",
              "\n",
              "    .colab-df-convert {\n",
              "      background-color: #E8F0FE;\n",
              "      border: none;\n",
              "      border-radius: 50%;\n",
              "      cursor: pointer;\n",
              "      display: none;\n",
              "      fill: #1967D2;\n",
              "      height: 32px;\n",
              "      padding: 0 0 0 0;\n",
              "      width: 32px;\n",
              "    }\n",
              "\n",
              "    .colab-df-convert:hover {\n",
              "      background-color: #E2EBFA;\n",
              "      box-shadow: 0px 1px 2px rgba(60, 64, 67, 0.3), 0px 1px 3px 1px rgba(60, 64, 67, 0.15);\n",
              "      fill: #174EA6;\n",
              "    }\n",
              "\n",
              "    .colab-df-buttons div {\n",
              "      margin-bottom: 4px;\n",
              "    }\n",
              "\n",
              "    [theme=dark] .colab-df-convert {\n",
              "      background-color: #3B4455;\n",
              "      fill: #D2E3FC;\n",
              "    }\n",
              "\n",
              "    [theme=dark] .colab-df-convert:hover {\n",
              "      background-color: #434B5C;\n",
              "      box-shadow: 0px 1px 3px 1px rgba(0, 0, 0, 0.15);\n",
              "      filter: drop-shadow(0px 1px 2px rgba(0, 0, 0, 0.3));\n",
              "      fill: #FFFFFF;\n",
              "    }\n",
              "  </style>\n",
              "\n",
              "    <script>\n",
              "      const buttonEl =\n",
              "        document.querySelector('#df-e7032344-9c0c-4188-b882-f574349e1a66 button.colab-df-convert');\n",
              "      buttonEl.style.display =\n",
              "        google.colab.kernel.accessAllowed ? 'block' : 'none';\n",
              "\n",
              "      async function convertToInteractive(key) {\n",
              "        const element = document.querySelector('#df-e7032344-9c0c-4188-b882-f574349e1a66');\n",
              "        const dataTable =\n",
              "          await google.colab.kernel.invokeFunction('convertToInteractive',\n",
              "                                                    [key], {});\n",
              "        if (!dataTable) return;\n",
              "\n",
              "        const docLinkHtml = 'Like what you see? Visit the ' +\n",
              "          '<a target=\"_blank\" href=https://colab.research.google.com/notebooks/data_table.ipynb>data table notebook</a>'\n",
              "          + ' to learn more about interactive tables.';\n",
              "        element.innerHTML = '';\n",
              "        dataTable['output_type'] = 'display_data';\n",
              "        await google.colab.output.renderOutput(dataTable, element);\n",
              "        const docLink = document.createElement('div');\n",
              "        docLink.innerHTML = docLinkHtml;\n",
              "        element.appendChild(docLink);\n",
              "      }\n",
              "    </script>\n",
              "  </div>\n",
              "\n",
              "\n",
              "    <div id=\"df-5785d2d5-64a2-4b10-9f9e-f1a2c5aa5b14\">\n",
              "      <button class=\"colab-df-quickchart\" onclick=\"quickchart('df-5785d2d5-64a2-4b10-9f9e-f1a2c5aa5b14')\"\n",
              "                title=\"Suggest charts\"\n",
              "                style=\"display:none;\">\n",
              "\n",
              "<svg xmlns=\"http://www.w3.org/2000/svg\" height=\"24px\"viewBox=\"0 0 24 24\"\n",
              "     width=\"24px\">\n",
              "    <g>\n",
              "        <path d=\"M19 3H5c-1.1 0-2 .9-2 2v14c0 1.1.9 2 2 2h14c1.1 0 2-.9 2-2V5c0-1.1-.9-2-2-2zM9 17H7v-7h2v7zm4 0h-2V7h2v10zm4 0h-2v-4h2v4z\"/>\n",
              "    </g>\n",
              "</svg>\n",
              "      </button>\n",
              "\n",
              "<style>\n",
              "  .colab-df-quickchart {\n",
              "      --bg-color: #E8F0FE;\n",
              "      --fill-color: #1967D2;\n",
              "      --hover-bg-color: #E2EBFA;\n",
              "      --hover-fill-color: #174EA6;\n",
              "      --disabled-fill-color: #AAA;\n",
              "      --disabled-bg-color: #DDD;\n",
              "  }\n",
              "\n",
              "  [theme=dark] .colab-df-quickchart {\n",
              "      --bg-color: #3B4455;\n",
              "      --fill-color: #D2E3FC;\n",
              "      --hover-bg-color: #434B5C;\n",
              "      --hover-fill-color: #FFFFFF;\n",
              "      --disabled-bg-color: #3B4455;\n",
              "      --disabled-fill-color: #666;\n",
              "  }\n",
              "\n",
              "  .colab-df-quickchart {\n",
              "    background-color: var(--bg-color);\n",
              "    border: none;\n",
              "    border-radius: 50%;\n",
              "    cursor: pointer;\n",
              "    display: none;\n",
              "    fill: var(--fill-color);\n",
              "    height: 32px;\n",
              "    padding: 0;\n",
              "    width: 32px;\n",
              "  }\n",
              "\n",
              "  .colab-df-quickchart:hover {\n",
              "    background-color: var(--hover-bg-color);\n",
              "    box-shadow: 0 1px 2px rgba(60, 64, 67, 0.3), 0 1px 3px 1px rgba(60, 64, 67, 0.15);\n",
              "    fill: var(--button-hover-fill-color);\n",
              "  }\n",
              "\n",
              "  .colab-df-quickchart-complete:disabled,\n",
              "  .colab-df-quickchart-complete:disabled:hover {\n",
              "    background-color: var(--disabled-bg-color);\n",
              "    fill: var(--disabled-fill-color);\n",
              "    box-shadow: none;\n",
              "  }\n",
              "\n",
              "  .colab-df-spinner {\n",
              "    border: 2px solid var(--fill-color);\n",
              "    border-color: transparent;\n",
              "    border-bottom-color: var(--fill-color);\n",
              "    animation:\n",
              "      spin 1s steps(1) infinite;\n",
              "  }\n",
              "\n",
              "  @keyframes spin {\n",
              "    0% {\n",
              "      border-color: transparent;\n",
              "      border-bottom-color: var(--fill-color);\n",
              "      border-left-color: var(--fill-color);\n",
              "    }\n",
              "    20% {\n",
              "      border-color: transparent;\n",
              "      border-left-color: var(--fill-color);\n",
              "      border-top-color: var(--fill-color);\n",
              "    }\n",
              "    30% {\n",
              "      border-color: transparent;\n",
              "      border-left-color: var(--fill-color);\n",
              "      border-top-color: var(--fill-color);\n",
              "      border-right-color: var(--fill-color);\n",
              "    }\n",
              "    40% {\n",
              "      border-color: transparent;\n",
              "      border-right-color: var(--fill-color);\n",
              "      border-top-color: var(--fill-color);\n",
              "    }\n",
              "    60% {\n",
              "      border-color: transparent;\n",
              "      border-right-color: var(--fill-color);\n",
              "    }\n",
              "    80% {\n",
              "      border-color: transparent;\n",
              "      border-right-color: var(--fill-color);\n",
              "      border-bottom-color: var(--fill-color);\n",
              "    }\n",
              "    90% {\n",
              "      border-color: transparent;\n",
              "      border-bottom-color: var(--fill-color);\n",
              "    }\n",
              "  }\n",
              "</style>\n",
              "\n",
              "      <script>\n",
              "        async function quickchart(key) {\n",
              "          const quickchartButtonEl =\n",
              "            document.querySelector('#' + key + ' button');\n",
              "          quickchartButtonEl.disabled = true;  // To prevent multiple clicks.\n",
              "          quickchartButtonEl.classList.add('colab-df-spinner');\n",
              "          try {\n",
              "            const charts = await google.colab.kernel.invokeFunction(\n",
              "                'suggestCharts', [key], {});\n",
              "          } catch (error) {\n",
              "            console.error('Error during call to suggestCharts:', error);\n",
              "          }\n",
              "          quickchartButtonEl.classList.remove('colab-df-spinner');\n",
              "          quickchartButtonEl.classList.add('colab-df-quickchart-complete');\n",
              "        }\n",
              "        (() => {\n",
              "          let quickchartButtonEl =\n",
              "            document.querySelector('#df-5785d2d5-64a2-4b10-9f9e-f1a2c5aa5b14 button');\n",
              "          quickchartButtonEl.style.display =\n",
              "            google.colab.kernel.accessAllowed ? 'block' : 'none';\n",
              "        })();\n",
              "      </script>\n",
              "    </div>\n",
              "\n",
              "    </div>\n",
              "  </div>\n"
            ],
            "application/vnd.google.colaboratory.intrinsic+json": {
              "type": "dataframe",
              "summary": "{\n  \"name\": \"np\",\n  \"rows\": 5,\n  \"fields\": [\n    {\n      \"column\": \"Sale\",\n      \"properties\": {\n        \"dtype\": \"number\",\n        \"std\": 234123,\n        \"min\": 240368,\n        \"max\": 844675,\n        \"num_unique_values\": 5,\n        \"samples\": [\n          447644,\n          844675,\n          620216\n        ],\n        \"semantic_type\": \"\",\n        \"description\": \"\"\n      }\n    },\n    {\n      \"column\": \"InStrSpending\",\n      \"properties\": {\n        \"dtype\": \"number\",\n        \"std\": 31.925271024691398,\n        \"min\": 59.9,\n        \"max\": 126.52,\n        \"num_unique_values\": 5,\n        \"samples\": [\n          67.18,\n          126.52,\n          76.99\n        ],\n        \"semantic_type\": \"\",\n        \"description\": \"\"\n      }\n    },\n    {\n      \"column\": \"Discount\",\n      \"properties\": {\n        \"dtype\": \"number\",\n        \"std\": 0.5311026266174929,\n        \"min\": 0.46,\n        \"max\": 1.79,\n        \"num_unique_values\": 5,\n        \"samples\": [\n          0.85,\n          1.79,\n          1.26\n        ],\n        \"semantic_type\": \"\",\n        \"description\": \"\"\n      }\n    },\n    {\n      \"column\": \"TVSpending\",\n      \"properties\": {\n        \"dtype\": \"number\",\n        \"std\": 134.80416955717652,\n        \"min\": 46.3,\n        \"max\": 403.46,\n        \"num_unique_values\": 5,\n        \"samples\": [\n          213.21,\n          403.46,\n          286.88\n        ],\n        \"semantic_type\": \"\",\n        \"description\": \"\"\n      }\n    },\n    {\n      \"column\": \"StockRate\",\n      \"properties\": {\n        \"dtype\": \"number\",\n        \"std\": 0.625939294181153,\n        \"min\": 0.45,\n        \"max\": 1.8,\n        \"num_unique_values\": 5,\n        \"samples\": [\n          0.5,\n          1.8,\n          0.56\n        ],\n        \"semantic_type\": \"\",\n        \"description\": \"\"\n      }\n    },\n    {\n      \"column\": \"Price\",\n      \"properties\": {\n        \"dtype\": \"number\",\n        \"std\": 19.722163167360723,\n        \"min\": 12.56,\n        \"max\": 55.1,\n        \"num_unique_values\": 5,\n        \"samples\": [\n          18.0,\n          55.1,\n          21.54\n        ],\n        \"semantic_type\": \"\",\n        \"description\": \"\"\n      }\n    },\n    {\n      \"column\": \"Radio\",\n      \"properties\": {\n        \"dtype\": \"number\",\n        \"std\": 2206,\n        \"min\": 1065,\n        \"max\": 6948,\n        \"num_unique_values\": 5,\n        \"samples\": [\n          2897,\n          6948,\n          3484\n        ],\n        \"semantic_type\": \"\",\n        \"description\": \"\"\n      }\n    },\n    {\n      \"column\": \"OnlineAdsSpending\",\n      \"properties\": {\n        \"dtype\": \"number\",\n        \"std\": 2135.7446393049895,\n        \"min\": 1081.6,\n        \"max\": 6263.58,\n        \"num_unique_values\": 5,\n        \"samples\": [\n          1732.84,\n          6263.58,\n          2799.4\n        ],\n        \"semantic_type\": \"\",\n        \"description\": \"\"\n      }\n    }\n  ]\n}"
            }
          },
          "metadata": {},
          "execution_count": 35
        }
      ]
    },
    {
      "cell_type": "code",
      "source": [
        "# Computes cumulative product row-wise for each column and rounds to 2 decimal places\n",
        "np.round(df.cumprod().head(),2)"
      ],
      "metadata": {
        "colab": {
          "base_uri": "https://localhost:8080/",
          "height": 245
        },
        "id": "fF0WWQd07cXz",
        "outputId": "37e86334-18cc-4f8d-d832-7541a3b67b55"
      },
      "execution_count": 36,
      "outputs": [
        {
          "output_type": "stream",
          "name": "stderr",
          "text": [
            "/usr/local/lib/python3.11/dist-packages/numpy/_core/fromnumeric.py:57: RuntimeWarning: overflow encountered in accumulate\n",
            "  return bound(*args, **kwds)\n"
          ]
        },
        {
          "output_type": "execute_result",
          "data": {
            "text/plain": [
              "                  Sale  InStrSpending  Discount    TVSpending  StockRate  \\\n",
              "0               240368          59.90      0.46  4.630000e+01       0.45   \n",
              "1          49822517568         436.07      0.18  7.727930e+03       0.02   \n",
              "2     8597971501744896        4277.87      0.07  5.693168e+05       0.00   \n",
              "3 -8396569594874848512      200803.05      0.02  1.932831e+07       0.00   \n",
              "4 -1444064392037632512      520079.89      0.01  1.597098e+09       0.00   \n",
              "\n",
              "      Price             Radio  OnlineAdsSpending  \n",
              "0     12.56              1065       1.081600e+03  \n",
              "1     68.33           1951080       7.043812e+05  \n",
              "2    241.88        1145283960       7.512648e+08  \n",
              "3   6990.20     1611414531720       1.393799e+12  \n",
              "4  32574.34  3314679691748040       2.242497e+15  "
            ],
            "text/html": [
              "\n",
              "  <div id=\"df-186e732c-249e-490a-aefd-aea806f13f25\" class=\"colab-df-container\">\n",
              "    <div>\n",
              "<style scoped>\n",
              "    .dataframe tbody tr th:only-of-type {\n",
              "        vertical-align: middle;\n",
              "    }\n",
              "\n",
              "    .dataframe tbody tr th {\n",
              "        vertical-align: top;\n",
              "    }\n",
              "\n",
              "    .dataframe thead th {\n",
              "        text-align: right;\n",
              "    }\n",
              "</style>\n",
              "<table border=\"1\" class=\"dataframe\">\n",
              "  <thead>\n",
              "    <tr style=\"text-align: right;\">\n",
              "      <th></th>\n",
              "      <th>Sale</th>\n",
              "      <th>InStrSpending</th>\n",
              "      <th>Discount</th>\n",
              "      <th>TVSpending</th>\n",
              "      <th>StockRate</th>\n",
              "      <th>Price</th>\n",
              "      <th>Radio</th>\n",
              "      <th>OnlineAdsSpending</th>\n",
              "    </tr>\n",
              "  </thead>\n",
              "  <tbody>\n",
              "    <tr>\n",
              "      <th>0</th>\n",
              "      <td>240368</td>\n",
              "      <td>59.90</td>\n",
              "      <td>0.46</td>\n",
              "      <td>4.630000e+01</td>\n",
              "      <td>0.45</td>\n",
              "      <td>12.56</td>\n",
              "      <td>1065</td>\n",
              "      <td>1.081600e+03</td>\n",
              "    </tr>\n",
              "    <tr>\n",
              "      <th>1</th>\n",
              "      <td>49822517568</td>\n",
              "      <td>436.07</td>\n",
              "      <td>0.18</td>\n",
              "      <td>7.727930e+03</td>\n",
              "      <td>0.02</td>\n",
              "      <td>68.33</td>\n",
              "      <td>1951080</td>\n",
              "      <td>7.043812e+05</td>\n",
              "    </tr>\n",
              "    <tr>\n",
              "      <th>2</th>\n",
              "      <td>8597971501744896</td>\n",
              "      <td>4277.87</td>\n",
              "      <td>0.07</td>\n",
              "      <td>5.693168e+05</td>\n",
              "      <td>0.00</td>\n",
              "      <td>241.88</td>\n",
              "      <td>1145283960</td>\n",
              "      <td>7.512648e+08</td>\n",
              "    </tr>\n",
              "    <tr>\n",
              "      <th>3</th>\n",
              "      <td>-8396569594874848512</td>\n",
              "      <td>200803.05</td>\n",
              "      <td>0.02</td>\n",
              "      <td>1.932831e+07</td>\n",
              "      <td>0.00</td>\n",
              "      <td>6990.20</td>\n",
              "      <td>1611414531720</td>\n",
              "      <td>1.393799e+12</td>\n",
              "    </tr>\n",
              "    <tr>\n",
              "      <th>4</th>\n",
              "      <td>-1444064392037632512</td>\n",
              "      <td>520079.89</td>\n",
              "      <td>0.01</td>\n",
              "      <td>1.597098e+09</td>\n",
              "      <td>0.00</td>\n",
              "      <td>32574.34</td>\n",
              "      <td>3314679691748040</td>\n",
              "      <td>2.242497e+15</td>\n",
              "    </tr>\n",
              "  </tbody>\n",
              "</table>\n",
              "</div>\n",
              "    <div class=\"colab-df-buttons\">\n",
              "\n",
              "  <div class=\"colab-df-container\">\n",
              "    <button class=\"colab-df-convert\" onclick=\"convertToInteractive('df-186e732c-249e-490a-aefd-aea806f13f25')\"\n",
              "            title=\"Convert this dataframe to an interactive table.\"\n",
              "            style=\"display:none;\">\n",
              "\n",
              "  <svg xmlns=\"http://www.w3.org/2000/svg\" height=\"24px\" viewBox=\"0 -960 960 960\">\n",
              "    <path d=\"M120-120v-720h720v720H120Zm60-500h600v-160H180v160Zm220 220h160v-160H400v160Zm0 220h160v-160H400v160ZM180-400h160v-160H180v160Zm440 0h160v-160H620v160ZM180-180h160v-160H180v160Zm440 0h160v-160H620v160Z\"/>\n",
              "  </svg>\n",
              "    </button>\n",
              "\n",
              "  <style>\n",
              "    .colab-df-container {\n",
              "      display:flex;\n",
              "      gap: 12px;\n",
              "    }\n",
              "\n",
              "    .colab-df-convert {\n",
              "      background-color: #E8F0FE;\n",
              "      border: none;\n",
              "      border-radius: 50%;\n",
              "      cursor: pointer;\n",
              "      display: none;\n",
              "      fill: #1967D2;\n",
              "      height: 32px;\n",
              "      padding: 0 0 0 0;\n",
              "      width: 32px;\n",
              "    }\n",
              "\n",
              "    .colab-df-convert:hover {\n",
              "      background-color: #E2EBFA;\n",
              "      box-shadow: 0px 1px 2px rgba(60, 64, 67, 0.3), 0px 1px 3px 1px rgba(60, 64, 67, 0.15);\n",
              "      fill: #174EA6;\n",
              "    }\n",
              "\n",
              "    .colab-df-buttons div {\n",
              "      margin-bottom: 4px;\n",
              "    }\n",
              "\n",
              "    [theme=dark] .colab-df-convert {\n",
              "      background-color: #3B4455;\n",
              "      fill: #D2E3FC;\n",
              "    }\n",
              "\n",
              "    [theme=dark] .colab-df-convert:hover {\n",
              "      background-color: #434B5C;\n",
              "      box-shadow: 0px 1px 3px 1px rgba(0, 0, 0, 0.15);\n",
              "      filter: drop-shadow(0px 1px 2px rgba(0, 0, 0, 0.3));\n",
              "      fill: #FFFFFF;\n",
              "    }\n",
              "  </style>\n",
              "\n",
              "    <script>\n",
              "      const buttonEl =\n",
              "        document.querySelector('#df-186e732c-249e-490a-aefd-aea806f13f25 button.colab-df-convert');\n",
              "      buttonEl.style.display =\n",
              "        google.colab.kernel.accessAllowed ? 'block' : 'none';\n",
              "\n",
              "      async function convertToInteractive(key) {\n",
              "        const element = document.querySelector('#df-186e732c-249e-490a-aefd-aea806f13f25');\n",
              "        const dataTable =\n",
              "          await google.colab.kernel.invokeFunction('convertToInteractive',\n",
              "                                                    [key], {});\n",
              "        if (!dataTable) return;\n",
              "\n",
              "        const docLinkHtml = 'Like what you see? Visit the ' +\n",
              "          '<a target=\"_blank\" href=https://colab.research.google.com/notebooks/data_table.ipynb>data table notebook</a>'\n",
              "          + ' to learn more about interactive tables.';\n",
              "        element.innerHTML = '';\n",
              "        dataTable['output_type'] = 'display_data';\n",
              "        await google.colab.output.renderOutput(dataTable, element);\n",
              "        const docLink = document.createElement('div');\n",
              "        docLink.innerHTML = docLinkHtml;\n",
              "        element.appendChild(docLink);\n",
              "      }\n",
              "    </script>\n",
              "  </div>\n",
              "\n",
              "\n",
              "    <div id=\"df-c524a5e1-c35f-41c8-b391-a7f3dc169ee3\">\n",
              "      <button class=\"colab-df-quickchart\" onclick=\"quickchart('df-c524a5e1-c35f-41c8-b391-a7f3dc169ee3')\"\n",
              "                title=\"Suggest charts\"\n",
              "                style=\"display:none;\">\n",
              "\n",
              "<svg xmlns=\"http://www.w3.org/2000/svg\" height=\"24px\"viewBox=\"0 0 24 24\"\n",
              "     width=\"24px\">\n",
              "    <g>\n",
              "        <path d=\"M19 3H5c-1.1 0-2 .9-2 2v14c0 1.1.9 2 2 2h14c1.1 0 2-.9 2-2V5c0-1.1-.9-2-2-2zM9 17H7v-7h2v7zm4 0h-2V7h2v10zm4 0h-2v-4h2v4z\"/>\n",
              "    </g>\n",
              "</svg>\n",
              "      </button>\n",
              "\n",
              "<style>\n",
              "  .colab-df-quickchart {\n",
              "      --bg-color: #E8F0FE;\n",
              "      --fill-color: #1967D2;\n",
              "      --hover-bg-color: #E2EBFA;\n",
              "      --hover-fill-color: #174EA6;\n",
              "      --disabled-fill-color: #AAA;\n",
              "      --disabled-bg-color: #DDD;\n",
              "  }\n",
              "\n",
              "  [theme=dark] .colab-df-quickchart {\n",
              "      --bg-color: #3B4455;\n",
              "      --fill-color: #D2E3FC;\n",
              "      --hover-bg-color: #434B5C;\n",
              "      --hover-fill-color: #FFFFFF;\n",
              "      --disabled-bg-color: #3B4455;\n",
              "      --disabled-fill-color: #666;\n",
              "  }\n",
              "\n",
              "  .colab-df-quickchart {\n",
              "    background-color: var(--bg-color);\n",
              "    border: none;\n",
              "    border-radius: 50%;\n",
              "    cursor: pointer;\n",
              "    display: none;\n",
              "    fill: var(--fill-color);\n",
              "    height: 32px;\n",
              "    padding: 0;\n",
              "    width: 32px;\n",
              "  }\n",
              "\n",
              "  .colab-df-quickchart:hover {\n",
              "    background-color: var(--hover-bg-color);\n",
              "    box-shadow: 0 1px 2px rgba(60, 64, 67, 0.3), 0 1px 3px 1px rgba(60, 64, 67, 0.15);\n",
              "    fill: var(--button-hover-fill-color);\n",
              "  }\n",
              "\n",
              "  .colab-df-quickchart-complete:disabled,\n",
              "  .colab-df-quickchart-complete:disabled:hover {\n",
              "    background-color: var(--disabled-bg-color);\n",
              "    fill: var(--disabled-fill-color);\n",
              "    box-shadow: none;\n",
              "  }\n",
              "\n",
              "  .colab-df-spinner {\n",
              "    border: 2px solid var(--fill-color);\n",
              "    border-color: transparent;\n",
              "    border-bottom-color: var(--fill-color);\n",
              "    animation:\n",
              "      spin 1s steps(1) infinite;\n",
              "  }\n",
              "\n",
              "  @keyframes spin {\n",
              "    0% {\n",
              "      border-color: transparent;\n",
              "      border-bottom-color: var(--fill-color);\n",
              "      border-left-color: var(--fill-color);\n",
              "    }\n",
              "    20% {\n",
              "      border-color: transparent;\n",
              "      border-left-color: var(--fill-color);\n",
              "      border-top-color: var(--fill-color);\n",
              "    }\n",
              "    30% {\n",
              "      border-color: transparent;\n",
              "      border-left-color: var(--fill-color);\n",
              "      border-top-color: var(--fill-color);\n",
              "      border-right-color: var(--fill-color);\n",
              "    }\n",
              "    40% {\n",
              "      border-color: transparent;\n",
              "      border-right-color: var(--fill-color);\n",
              "      border-top-color: var(--fill-color);\n",
              "    }\n",
              "    60% {\n",
              "      border-color: transparent;\n",
              "      border-right-color: var(--fill-color);\n",
              "    }\n",
              "    80% {\n",
              "      border-color: transparent;\n",
              "      border-right-color: var(--fill-color);\n",
              "      border-bottom-color: var(--fill-color);\n",
              "    }\n",
              "    90% {\n",
              "      border-color: transparent;\n",
              "      border-bottom-color: var(--fill-color);\n",
              "    }\n",
              "  }\n",
              "</style>\n",
              "\n",
              "      <script>\n",
              "        async function quickchart(key) {\n",
              "          const quickchartButtonEl =\n",
              "            document.querySelector('#' + key + ' button');\n",
              "          quickchartButtonEl.disabled = true;  // To prevent multiple clicks.\n",
              "          quickchartButtonEl.classList.add('colab-df-spinner');\n",
              "          try {\n",
              "            const charts = await google.colab.kernel.invokeFunction(\n",
              "                'suggestCharts', [key], {});\n",
              "          } catch (error) {\n",
              "            console.error('Error during call to suggestCharts:', error);\n",
              "          }\n",
              "          quickchartButtonEl.classList.remove('colab-df-spinner');\n",
              "          quickchartButtonEl.classList.add('colab-df-quickchart-complete');\n",
              "        }\n",
              "        (() => {\n",
              "          let quickchartButtonEl =\n",
              "            document.querySelector('#df-c524a5e1-c35f-41c8-b391-a7f3dc169ee3 button');\n",
              "          quickchartButtonEl.style.display =\n",
              "            google.colab.kernel.accessAllowed ? 'block' : 'none';\n",
              "        })();\n",
              "      </script>\n",
              "    </div>\n",
              "\n",
              "    </div>\n",
              "  </div>\n"
            ],
            "application/vnd.google.colaboratory.intrinsic+json": {
              "type": "dataframe",
              "summary": "{\n  \"name\": \"np\",\n  \"rows\": 5,\n  \"fields\": [\n    {\n      \"column\": \"Sale\",\n      \"properties\": {\n        \"dtype\": \"number\",\n        \"std\": 3648766593292815360,\n        \"min\": -8396569594874848512,\n        \"max\": 8597971501744896,\n        \"num_unique_values\": 5,\n        \"samples\": [\n          49822517568,\n          -1444064392037632512,\n          8597971501744896\n        ],\n        \"semantic_type\": \"\",\n        \"description\": \"\"\n      }\n    },\n    {\n      \"column\": \"InStrSpending\",\n      \"properties\": {\n        \"dtype\": \"number\",\n        \"std\": 226664.89489801496,\n        \"min\": 59.9,\n        \"max\": 520079.89,\n        \"num_unique_values\": 5,\n        \"samples\": [\n          436.07,\n          520079.89,\n          4277.87\n        ],\n        \"semantic_type\": \"\",\n        \"description\": \"\"\n      }\n    },\n    {\n      \"column\": \"Discount\",\n      \"properties\": {\n        \"dtype\": \"number\",\n        \"std\": 0.18700267377767624,\n        \"min\": 0.01,\n        \"max\": 0.46,\n        \"num_unique_values\": 5,\n        \"samples\": [\n          0.18,\n          0.01,\n          0.07\n        ],\n        \"semantic_type\": \"\",\n        \"description\": \"\"\n      }\n    },\n    {\n      \"column\": \"TVSpending\",\n      \"properties\": {\n        \"dtype\": \"number\",\n        \"std\": 712066671.3576632,\n        \"min\": 46.3,\n        \"max\": 1597097939.53,\n        \"num_unique_values\": 5,\n        \"samples\": [\n          7727.93,\n          1597097939.53,\n          569316.82\n        ],\n        \"semantic_type\": \"\",\n        \"description\": \"\"\n      }\n    },\n    {\n      \"column\": \"StockRate\",\n      \"properties\": {\n        \"dtype\": \"number\",\n        \"std\": 0.19919839356781974,\n        \"min\": 0.0,\n        \"max\": 0.45,\n        \"num_unique_values\": 3,\n        \"samples\": [\n          0.45,\n          0.02,\n          0.0\n        ],\n        \"semantic_type\": \"\",\n        \"description\": \"\"\n      }\n    },\n    {\n      \"column\": \"Price\",\n      \"properties\": {\n        \"dtype\": \"number\",\n        \"std\": 14069.598033928332,\n        \"min\": 12.56,\n        \"max\": 32574.34,\n        \"num_unique_values\": 5,\n        \"samples\": [\n          68.33,\n          32574.34,\n          241.88\n        ],\n        \"semantic_type\": \"\",\n        \"description\": \"\"\n      }\n    },\n    {\n      \"column\": \"Radio\",\n      \"properties\": {\n        \"dtype\": \"number\",\n        \"std\": 1482189697154105,\n        \"min\": 1065,\n        \"max\": 3314679691748040,\n        \"num_unique_values\": 5,\n        \"samples\": [\n          1951080,\n          3314679691748040,\n          1145283960\n        ],\n        \"semantic_type\": \"\",\n        \"description\": \"\"\n      }\n    },\n    {\n      \"column\": \"OnlineAdsSpending\",\n      \"properties\": {\n        \"dtype\": \"number\",\n        \"std\": 1002719505838376.0,\n        \"min\": 1081.6,\n        \"max\": 2242497209176148.8,\n        \"num_unique_values\": 5,\n        \"samples\": [\n          704381.18,\n          2242497209176148.8,\n          751264795.61\n        ],\n        \"semantic_type\": \"\",\n        \"description\": \"\"\n      }\n    }\n  ]\n}"
            }
          },
          "metadata": {},
          "execution_count": 36
        }
      ]
    },
    {
      "cell_type": "code",
      "source": [
        "# Get 25th percentile (Q1) for each numeric column, rounded to 2 decimals\n",
        "np.round(df.quantile(0.25,numeric_only=True),2)"
      ],
      "metadata": {
        "colab": {
          "base_uri": "https://localhost:8080/",
          "height": 335
        },
        "id": "JFydGOC57n_V",
        "outputId": "dec688d7-f054-4fa6-8d7f-cef3711ab26e"
      },
      "execution_count": 37,
      "outputs": [
        {
          "output_type": "execute_result",
          "data": {
            "text/plain": [
              "Sale                 112479.25\n",
              "InStrSpending            14.83\n",
              "Discount                  0.13\n",
              "TVSpending               49.64\n",
              "StockRate                 0.25\n",
              "Price                     6.92\n",
              "Radio                   708.25\n",
              "OnlineAdsSpending       786.33\n",
              "Name: 0.25, dtype: float64"
            ],
            "text/html": [
              "<div>\n",
              "<style scoped>\n",
              "    .dataframe tbody tr th:only-of-type {\n",
              "        vertical-align: middle;\n",
              "    }\n",
              "\n",
              "    .dataframe tbody tr th {\n",
              "        vertical-align: top;\n",
              "    }\n",
              "\n",
              "    .dataframe thead th {\n",
              "        text-align: right;\n",
              "    }\n",
              "</style>\n",
              "<table border=\"1\" class=\"dataframe\">\n",
              "  <thead>\n",
              "    <tr style=\"text-align: right;\">\n",
              "      <th></th>\n",
              "      <th>0.25</th>\n",
              "    </tr>\n",
              "  </thead>\n",
              "  <tbody>\n",
              "    <tr>\n",
              "      <th>Sale</th>\n",
              "      <td>112479.25</td>\n",
              "    </tr>\n",
              "    <tr>\n",
              "      <th>InStrSpending</th>\n",
              "      <td>14.83</td>\n",
              "    </tr>\n",
              "    <tr>\n",
              "      <th>Discount</th>\n",
              "      <td>0.13</td>\n",
              "    </tr>\n",
              "    <tr>\n",
              "      <th>TVSpending</th>\n",
              "      <td>49.64</td>\n",
              "    </tr>\n",
              "    <tr>\n",
              "      <th>StockRate</th>\n",
              "      <td>0.25</td>\n",
              "    </tr>\n",
              "    <tr>\n",
              "      <th>Price</th>\n",
              "      <td>6.92</td>\n",
              "    </tr>\n",
              "    <tr>\n",
              "      <th>Radio</th>\n",
              "      <td>708.25</td>\n",
              "    </tr>\n",
              "    <tr>\n",
              "      <th>OnlineAdsSpending</th>\n",
              "      <td>786.33</td>\n",
              "    </tr>\n",
              "  </tbody>\n",
              "</table>\n",
              "</div><br><label><b>dtype:</b> float64</label>"
            ]
          },
          "metadata": {},
          "execution_count": 37
        }
      ]
    },
    {
      "cell_type": "code",
      "source": [
        "# Returns the median of each numeric column rounded to 2 decimal places\n",
        "np.round(df.quantile(0.50,numeric_only=True),2)"
      ],
      "metadata": {
        "colab": {
          "base_uri": "https://localhost:8080/",
          "height": 335
        },
        "id": "xRAcHLwf73Rg",
        "outputId": "700919dd-8b71-41fb-b542-f2d3b0c82516"
      },
      "execution_count": 38,
      "outputs": [
        {
          "output_type": "execute_result",
          "data": {
            "text/plain": [
              "Sale                 170390.50\n",
              "InStrSpending            31.38\n",
              "Discount                  0.25\n",
              "TVSpending               97.51\n",
              "StockRate                 0.49\n",
              "Price                    14.82\n",
              "Radio                  1413.50\n",
              "OnlineAdsSpending      1595.46\n",
              "Name: 0.5, dtype: float64"
            ],
            "text/html": [
              "<div>\n",
              "<style scoped>\n",
              "    .dataframe tbody tr th:only-of-type {\n",
              "        vertical-align: middle;\n",
              "    }\n",
              "\n",
              "    .dataframe tbody tr th {\n",
              "        vertical-align: top;\n",
              "    }\n",
              "\n",
              "    .dataframe thead th {\n",
              "        text-align: right;\n",
              "    }\n",
              "</style>\n",
              "<table border=\"1\" class=\"dataframe\">\n",
              "  <thead>\n",
              "    <tr style=\"text-align: right;\">\n",
              "      <th></th>\n",
              "      <th>0.5</th>\n",
              "    </tr>\n",
              "  </thead>\n",
              "  <tbody>\n",
              "    <tr>\n",
              "      <th>Sale</th>\n",
              "      <td>170390.50</td>\n",
              "    </tr>\n",
              "    <tr>\n",
              "      <th>InStrSpending</th>\n",
              "      <td>31.38</td>\n",
              "    </tr>\n",
              "    <tr>\n",
              "      <th>Discount</th>\n",
              "      <td>0.25</td>\n",
              "    </tr>\n",
              "    <tr>\n",
              "      <th>TVSpending</th>\n",
              "      <td>97.51</td>\n",
              "    </tr>\n",
              "    <tr>\n",
              "      <th>StockRate</th>\n",
              "      <td>0.49</td>\n",
              "    </tr>\n",
              "    <tr>\n",
              "      <th>Price</th>\n",
              "      <td>14.82</td>\n",
              "    </tr>\n",
              "    <tr>\n",
              "      <th>Radio</th>\n",
              "      <td>1413.50</td>\n",
              "    </tr>\n",
              "    <tr>\n",
              "      <th>OnlineAdsSpending</th>\n",
              "      <td>1595.46</td>\n",
              "    </tr>\n",
              "  </tbody>\n",
              "</table>\n",
              "</div><br><label><b>dtype:</b> float64</label>"
            ]
          },
          "metadata": {},
          "execution_count": 38
        }
      ]
    },
    {
      "cell_type": "code",
      "source": [
        "# Returns the number of unique values in each column of the DataFrame\n",
        "df.nunique()"
      ],
      "metadata": {
        "colab": {
          "base_uri": "https://localhost:8080/",
          "height": 335
        },
        "id": "gvzJcYmf8EMW",
        "outputId": "9e77bd6e-5e1e-42f9-82b3-ecf4154d62c4"
      },
      "execution_count": 39,
      "outputs": [
        {
          "output_type": "execute_result",
          "data": {
            "text/plain": [
              "Sale                 990\n",
              "InStrSpending        917\n",
              "Discount              51\n",
              "TVSpending           959\n",
              "StockRate            101\n",
              "Price                839\n",
              "Radio                852\n",
              "OnlineAdsSpending    991\n",
              "dtype: int64"
            ],
            "text/html": [
              "<div>\n",
              "<style scoped>\n",
              "    .dataframe tbody tr th:only-of-type {\n",
              "        vertical-align: middle;\n",
              "    }\n",
              "\n",
              "    .dataframe tbody tr th {\n",
              "        vertical-align: top;\n",
              "    }\n",
              "\n",
              "    .dataframe thead th {\n",
              "        text-align: right;\n",
              "    }\n",
              "</style>\n",
              "<table border=\"1\" class=\"dataframe\">\n",
              "  <thead>\n",
              "    <tr style=\"text-align: right;\">\n",
              "      <th></th>\n",
              "      <th>0</th>\n",
              "    </tr>\n",
              "  </thead>\n",
              "  <tbody>\n",
              "    <tr>\n",
              "      <th>Sale</th>\n",
              "      <td>990</td>\n",
              "    </tr>\n",
              "    <tr>\n",
              "      <th>InStrSpending</th>\n",
              "      <td>917</td>\n",
              "    </tr>\n",
              "    <tr>\n",
              "      <th>Discount</th>\n",
              "      <td>51</td>\n",
              "    </tr>\n",
              "    <tr>\n",
              "      <th>TVSpending</th>\n",
              "      <td>959</td>\n",
              "    </tr>\n",
              "    <tr>\n",
              "      <th>StockRate</th>\n",
              "      <td>101</td>\n",
              "    </tr>\n",
              "    <tr>\n",
              "      <th>Price</th>\n",
              "      <td>839</td>\n",
              "    </tr>\n",
              "    <tr>\n",
              "      <th>Radio</th>\n",
              "      <td>852</td>\n",
              "    </tr>\n",
              "    <tr>\n",
              "      <th>OnlineAdsSpending</th>\n",
              "      <td>991</td>\n",
              "    </tr>\n",
              "  </tbody>\n",
              "</table>\n",
              "</div><br><label><b>dtype:</b> int64</label>"
            ]
          },
          "metadata": {},
          "execution_count": 39
        }
      ]
    }
  ]
}